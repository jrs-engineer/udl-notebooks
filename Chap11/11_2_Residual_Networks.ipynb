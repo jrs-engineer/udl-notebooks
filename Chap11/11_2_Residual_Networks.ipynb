{
  "cells": [
    {
      "cell_type": "markdown",
      "metadata": {
        "colab_type": "text",
        "id": "view-in-github"
      },
      "source": [
        "<a href=\"https://colab.research.google.com/github/udlbook/udlbook/blob/main/Notebooks/Chap11/11_2_Residual_Networks.ipynb\" target=\"_parent\"><img src=\"https://colab.research.google.com/assets/colab-badge.svg\" alt=\"Open In Colab\"/></a>"
      ]
    },
    {
      "cell_type": "markdown",
      "metadata": {
        "id": "t9vk9Elugvmi"
      },
      "source": [
        "# **Notebook 11.2: Residual Networks**\n",
        "\n",
        "This notebook adapts the networks for MNIST1D to use residual connections.\n",
        "\n",
        "Work through the cells below, running each cell in turn. In various places you will see the words \"TO DO\". Follow the instructions at these places and make predictions about what is going to happen or write code to complete the functions.\n",
        "\n",
        "Contact me at udlbookmail@gmail.com if you find any mistakes or have any suggestions.\n",
        "\n"
      ]
    },
    {
      "cell_type": "code",
      "execution_count": 1,
      "metadata": {
        "id": "YrXWAH7sUWvU"
      },
      "outputs": [],
      "source": [
        "import numpy as np\n",
        "import os\n",
        "import torch, torch.nn as nn\n",
        "from torch.utils.data import TensorDataset, DataLoader\n",
        "from torch.optim.lr_scheduler import StepLR\n",
        "import matplotlib.pyplot as plt\n",
        "import mnist1d\n",
        "import random"
      ]
    },
    {
      "cell_type": "code",
      "execution_count": 2,
      "metadata": {
        "id": "twI72ZCrCt5z"
      },
      "outputs": [
        {
          "name": "stdout",
          "output_type": "stream",
          "text": [
            "Did or could not load data from ./mnist1d_data.pkl. Rebuilding dataset...\n",
            "Examples in training set: 4000\n",
            "Examples in test set: 1000\n",
            "Length of each example: 40\n"
          ]
        }
      ],
      "source": [
        "args = mnist1d.data.get_dataset_args()\n",
        "data = mnist1d.data.get_dataset(args, path='./mnist1d_data.pkl', download=False, regenerate=False)\n",
        "\n",
        "# The training and test input and outputs are in\n",
        "# data['x'], data['y'], data['x_test'], and data['y_test']\n",
        "print(\"Examples in training set: {}\".format(len(data['y'])))\n",
        "print(\"Examples in test set: {}\".format(len(data['y_test'])))\n",
        "print(\"Length of each example: {}\".format(data['x'].shape[-1]))"
      ]
    },
    {
      "cell_type": "code",
      "execution_count": 3,
      "metadata": {
        "id": "8bKADvLHbiV5"
      },
      "outputs": [
        {
          "name": "stdout",
          "output_type": "stream",
          "text": [
            "Train data: 4000 examples (columns), each of which has 40 dimensions (rows)\n",
            "Validation data: 1000 examples (columns), each of which has 40 dimensions (rows)\n"
          ]
        }
      ],
      "source": [
        "# Load in the data\n",
        "train_data_x = data['x'].transpose()\n",
        "train_data_y = data['y']\n",
        "val_data_x = data['x_test'].transpose()\n",
        "val_data_y = data['y_test']\n",
        "# Print out sizes\n",
        "print(\"Train data: %d examples (columns), each of which has %d dimensions (rows)\"%((train_data_x.shape[1],train_data_x.shape[0])))\n",
        "print(\"Validation data: %d examples (columns), each of which has %d dimensions (rows)\"%((val_data_x.shape[1],val_data_x.shape[0])))"
      ]
    },
    {
      "cell_type": "markdown",
      "metadata": {
        "id": "_sFvRDGrl4qe"
      },
      "source": [
        "Define the network"
      ]
    },
    {
      "cell_type": "code",
      "execution_count": 45,
      "metadata": {
        "id": "FslroPJJffrh"
      },
      "outputs": [],
      "source": [
        "# There are 40 input dimensions and 10 output dimensions for this data\n",
        "# The inputs correspond to the 40 offsets in the MNIST1D template.\n",
        "D_i = 40\n",
        "# The outputs correspond to the 10 digits\n",
        "D_o = 10\n",
        "\n",
        "\n",
        "# We will adapt this model to have residual connections around the linear layers\n",
        "# This is the same model we used in practical 8.1, but we can't use the sequential\n",
        "# class for residual networks (which aren't strictly sequential).  Hence, I've rewritten\n",
        "# it as a model that inherits from a base class\n",
        "\n",
        "class ResidualNetwork(torch.nn.Module):\n",
        "  def __init__(self, input_size, output_size, hidden_size=100):\n",
        "    super(ResidualNetwork, self).__init__()\n",
        "    self.linear1 = nn.Linear(input_size, hidden_size)\n",
        "    self.linear2 = nn.Linear(hidden_size, hidden_size)\n",
        "    self.linear3 = nn.Linear(hidden_size, hidden_size)\n",
        "    self.linear4 = nn.Linear(hidden_size, output_size)\n",
        "    print(\"Initialized MLPBase model with {} parameters\".format(self.count_params()))\n",
        "\n",
        "  def count_params(self):\n",
        "    return sum([p.view(-1).shape[0] for p in self.parameters()])\n",
        "\n",
        "# TODO -- Add residual connections to this model\n",
        "# The order of operations within each block should similar to figure 11.5b\n",
        "# ie., linear1 first, ReLU+linear2 in first residual block, ReLU+linear3 in second residual block), linear4 at end\n",
        "# Replace this function\n",
        "  def forward(self, x):\n",
        "    h1 = self.linear1(x)\n",
        "    h2 = self.linear2(h1.relu()) + h1\n",
        "    h3 = self.linear3(h2.relu()) + h2\n",
        "    return self.linear4(h3.relu())\n"
      ]
    },
    {
      "cell_type": "code",
      "execution_count": 46,
      "metadata": {
        "id": "YgLaex1pfhqz"
      },
      "outputs": [],
      "source": [
        "# He initialization of weights\n",
        "def weights_init(layer_in):\n",
        "  if isinstance(layer_in, nn.Linear):\n",
        "    nn.init.kaiming_uniform_(layer_in.weight)\n",
        "    layer_in.bias.data.fill_(0.0)"
      ]
    },
    {
      "cell_type": "code",
      "execution_count": 47,
      "metadata": {
        "id": "NYw8I_3mmX5c"
      },
      "outputs": [
        {
          "name": "stdout",
          "output_type": "stream",
          "text": [
            "Initialized MLPBase model with 25310 parameters\n",
            "Epoch     0, train loss 1.566221, train error 60.38,  val loss 1.648210, percent error 64.00\n",
            "Epoch     1, train loss 1.317605, train error 49.60,  val loss 1.492898, percent error 59.00\n",
            "Epoch     2, train loss 1.104716, train error 41.38,  val loss 1.353163, percent error 53.00\n",
            "Epoch     3, train loss 0.948989, train error 34.82,  val loss 1.286780, percent error 50.10\n",
            "Epoch     4, train loss 0.853633, train error 31.62,  val loss 1.263628, percent error 48.80\n",
            "Epoch     5, train loss 0.716268, train error 24.55,  val loss 1.238553, percent error 47.00\n",
            "Epoch     6, train loss 0.613374, train error 21.22,  val loss 1.174804, percent error 44.40\n",
            "Epoch     7, train loss 0.542605, train error 19.07,  val loss 1.191822, percent error 42.50\n",
            "Epoch     8, train loss 0.472441, train error 16.07,  val loss 1.186735, percent error 42.30\n",
            "Epoch     9, train loss 0.402900, train error 13.65,  val loss 1.172385, percent error 39.90\n",
            "Epoch    10, train loss 0.337635, train error 11.18,  val loss 1.195868, percent error 39.40\n",
            "Epoch    11, train loss 0.355181, train error 12.85,  val loss 1.253194, percent error 39.50\n",
            "Epoch    12, train loss 0.240714, train error 7.38,  val loss 1.224162, percent error 37.90\n",
            "Epoch    13, train loss 0.291551, train error 9.90,  val loss 1.408110, percent error 40.00\n",
            "Epoch    14, train loss 0.249953, train error 8.25,  val loss 1.321474, percent error 38.30\n",
            "Epoch    15, train loss 0.182644, train error 5.85,  val loss 1.309722, percent error 35.70\n",
            "Epoch    16, train loss 0.128631, train error 3.40,  val loss 1.402001, percent error 38.00\n",
            "Epoch    17, train loss 0.132146, train error 3.88,  val loss 1.462022, percent error 37.00\n",
            "Epoch    18, train loss 0.086653, train error 2.22,  val loss 1.503263, percent error 36.60\n",
            "Epoch    19, train loss 0.069957, train error 1.82,  val loss 1.531754, percent error 36.40\n",
            "Epoch    20, train loss 0.026149, train error 0.03,  val loss 1.471078, percent error 36.10\n",
            "Epoch    21, train loss 0.016184, train error 0.00,  val loss 1.484950, percent error 36.20\n",
            "Epoch    22, train loss 0.012865, train error 0.00,  val loss 1.507324, percent error 35.90\n",
            "Epoch    23, train loss 0.011120, train error 0.00,  val loss 1.531364, percent error 36.20\n",
            "Epoch    24, train loss 0.009884, train error 0.00,  val loss 1.550166, percent error 35.60\n",
            "Epoch    25, train loss 0.008953, train error 0.00,  val loss 1.565352, percent error 35.90\n",
            "Epoch    26, train loss 0.008221, train error 0.00,  val loss 1.580525, percent error 36.00\n",
            "Epoch    27, train loss 0.007682, train error 0.00,  val loss 1.598154, percent error 35.50\n",
            "Epoch    28, train loss 0.007089, train error 0.00,  val loss 1.613354, percent error 35.50\n",
            "Epoch    29, train loss 0.006612, train error 0.00,  val loss 1.625212, percent error 35.90\n",
            "Epoch    30, train loss 0.006230, train error 0.00,  val loss 1.636088, percent error 35.60\n",
            "Epoch    31, train loss 0.005868, train error 0.00,  val loss 1.646528, percent error 35.80\n",
            "Epoch    32, train loss 0.005568, train error 0.00,  val loss 1.660846, percent error 35.90\n",
            "Epoch    33, train loss 0.005298, train error 0.00,  val loss 1.673549, percent error 35.60\n",
            "Epoch    34, train loss 0.005033, train error 0.00,  val loss 1.679272, percent error 35.70\n",
            "Epoch    35, train loss 0.004828, train error 0.00,  val loss 1.690251, percent error 35.60\n",
            "Epoch    36, train loss 0.004596, train error 0.00,  val loss 1.703261, percent error 35.40\n",
            "Epoch    37, train loss 0.004408, train error 0.00,  val loss 1.707146, percent error 35.50\n",
            "Epoch    38, train loss 0.004224, train error 0.00,  val loss 1.717404, percent error 35.60\n",
            "Epoch    39, train loss 0.004057, train error 0.00,  val loss 1.726251, percent error 35.60\n",
            "Epoch    40, train loss 0.003976, train error 0.00,  val loss 1.731389, percent error 35.50\n",
            "Epoch    41, train loss 0.003904, train error 0.00,  val loss 1.733989, percent error 35.50\n",
            "Epoch    42, train loss 0.003832, train error 0.00,  val loss 1.739372, percent error 35.60\n",
            "Epoch    43, train loss 0.003765, train error 0.00,  val loss 1.743084, percent error 35.50\n",
            "Epoch    44, train loss 0.003700, train error 0.00,  val loss 1.745748, percent error 35.50\n",
            "Epoch    45, train loss 0.003635, train error 0.00,  val loss 1.750991, percent error 35.60\n",
            "Epoch    46, train loss 0.003574, train error 0.00,  val loss 1.755018, percent error 35.70\n",
            "Epoch    47, train loss 0.003515, train error 0.00,  val loss 1.759424, percent error 35.60\n",
            "Epoch    48, train loss 0.003458, train error 0.00,  val loss 1.762776, percent error 35.60\n",
            "Epoch    49, train loss 0.003401, train error 0.00,  val loss 1.765930, percent error 35.60\n",
            "Epoch    50, train loss 0.003349, train error 0.00,  val loss 1.770125, percent error 35.60\n",
            "Epoch    51, train loss 0.003296, train error 0.00,  val loss 1.773582, percent error 35.70\n",
            "Epoch    52, train loss 0.003245, train error 0.00,  val loss 1.776763, percent error 35.70\n",
            "Epoch    53, train loss 0.003197, train error 0.00,  val loss 1.780592, percent error 35.60\n",
            "Epoch    54, train loss 0.003148, train error 0.00,  val loss 1.784658, percent error 35.90\n",
            "Epoch    55, train loss 0.003102, train error 0.00,  val loss 1.789232, percent error 35.60\n",
            "Epoch    56, train loss 0.003056, train error 0.00,  val loss 1.790829, percent error 35.80\n",
            "Epoch    57, train loss 0.003012, train error 0.00,  val loss 1.794353, percent error 35.70\n",
            "Epoch    58, train loss 0.002969, train error 0.00,  val loss 1.798993, percent error 35.70\n",
            "Epoch    59, train loss 0.002927, train error 0.00,  val loss 1.801985, percent error 35.70\n",
            "Epoch    60, train loss 0.002907, train error 0.00,  val loss 1.803791, percent error 35.70\n",
            "Epoch    61, train loss 0.002886, train error 0.00,  val loss 1.805532, percent error 35.70\n",
            "Epoch    62, train loss 0.002866, train error 0.00,  val loss 1.807061, percent error 35.60\n",
            "Epoch    63, train loss 0.002847, train error 0.00,  val loss 1.808596, percent error 35.70\n",
            "Epoch    64, train loss 0.002827, train error 0.00,  val loss 1.810505, percent error 35.70\n",
            "Epoch    65, train loss 0.002808, train error 0.00,  val loss 1.811848, percent error 35.70\n",
            "Epoch    66, train loss 0.002790, train error 0.00,  val loss 1.813603, percent error 35.80\n",
            "Epoch    67, train loss 0.002771, train error 0.00,  val loss 1.814446, percent error 35.60\n",
            "Epoch    68, train loss 0.002753, train error 0.00,  val loss 1.816535, percent error 35.80\n",
            "Epoch    69, train loss 0.002735, train error 0.00,  val loss 1.818411, percent error 35.80\n",
            "Epoch    70, train loss 0.002717, train error 0.00,  val loss 1.819905, percent error 35.80\n",
            "Epoch    71, train loss 0.002700, train error 0.00,  val loss 1.821704, percent error 35.80\n",
            "Epoch    72, train loss 0.002682, train error 0.00,  val loss 1.822635, percent error 35.80\n",
            "Epoch    73, train loss 0.002665, train error 0.00,  val loss 1.824672, percent error 35.70\n",
            "Epoch    74, train loss 0.002648, train error 0.00,  val loss 1.825881, percent error 35.70\n",
            "Epoch    75, train loss 0.002631, train error 0.00,  val loss 1.827501, percent error 35.80\n",
            "Epoch    76, train loss 0.002615, train error 0.00,  val loss 1.829082, percent error 35.70\n",
            "Epoch    77, train loss 0.002598, train error 0.00,  val loss 1.830712, percent error 35.80\n",
            "Epoch    78, train loss 0.002582, train error 0.00,  val loss 1.831719, percent error 35.60\n",
            "Epoch    79, train loss 0.002566, train error 0.00,  val loss 1.833546, percent error 35.70\n",
            "Epoch    80, train loss 0.002558, train error 0.00,  val loss 1.834254, percent error 35.70\n",
            "Epoch    81, train loss 0.002550, train error 0.00,  val loss 1.835006, percent error 35.70\n",
            "Epoch    82, train loss 0.002542, train error 0.00,  val loss 1.835733, percent error 35.70\n",
            "Epoch    83, train loss 0.002534, train error 0.00,  val loss 1.836581, percent error 35.70\n",
            "Epoch    84, train loss 0.002527, train error 0.00,  val loss 1.837367, percent error 35.80\n",
            "Epoch    85, train loss 0.002519, train error 0.00,  val loss 1.837974, percent error 35.70\n",
            "Epoch    86, train loss 0.002511, train error 0.00,  val loss 1.838664, percent error 35.80\n",
            "Epoch    87, train loss 0.002504, train error 0.00,  val loss 1.839618, percent error 35.70\n",
            "Epoch    88, train loss 0.002496, train error 0.00,  val loss 1.840075, percent error 35.50\n",
            "Epoch    89, train loss 0.002489, train error 0.00,  val loss 1.840882, percent error 35.80\n",
            "Epoch    90, train loss 0.002481, train error 0.00,  val loss 1.841689, percent error 35.60\n",
            "Epoch    91, train loss 0.002474, train error 0.00,  val loss 1.842543, percent error 35.70\n",
            "Epoch    92, train loss 0.002466, train error 0.00,  val loss 1.842904, percent error 35.60\n",
            "Epoch    93, train loss 0.002459, train error 0.00,  val loss 1.843629, percent error 35.70\n",
            "Epoch    94, train loss 0.002452, train error 0.00,  val loss 1.844430, percent error 35.70\n",
            "Epoch    95, train loss 0.002445, train error 0.00,  val loss 1.845234, percent error 35.60\n",
            "Epoch    96, train loss 0.002438, train error 0.00,  val loss 1.845707, percent error 35.60\n",
            "Epoch    97, train loss 0.002430, train error 0.00,  val loss 1.846332, percent error 35.60\n",
            "Epoch    98, train loss 0.002423, train error 0.00,  val loss 1.847059, percent error 35.70\n",
            "Epoch    99, train loss 0.002416, train error 0.00,  val loss 1.848083, percent error 35.60\n"
          ]
        }
      ],
      "source": [
        "#Define the model\n",
        "model = ResidualNetwork(40, 10)\n",
        "\n",
        "# choose cross entropy loss function (equation 5.24 in the loss notes)\n",
        "loss_function = nn.CrossEntropyLoss()\n",
        "# construct SGD optimizer and initialize learning rate and momentum\n",
        "optimizer = torch.optim.SGD(model.parameters(), lr = 0.05, momentum=0.9)\n",
        "# object that decreases learning rate by half every 20 epochs\n",
        "scheduler = StepLR(optimizer, step_size=20, gamma=0.5)\n",
        "# convert data to torch tensors\n",
        "x_train = torch.tensor(train_data_x.transpose().astype('float32'))\n",
        "y_train = torch.tensor(train_data_y.astype('long'))\n",
        "x_val= torch.tensor(val_data_x.transpose().astype('float32'))\n",
        "y_val = torch.tensor(val_data_y.astype('long'))\n",
        "\n",
        "# load the data into a class that creates the batches\n",
        "data_loader = DataLoader(TensorDataset(x_train,y_train), batch_size=100, shuffle=True, worker_init_fn=np.random.seed(1))\n",
        "\n",
        "# Initialize model weights\n",
        "model.apply(weights_init)\n",
        "\n",
        "# loop over the dataset n_epoch times\n",
        "n_epoch = 100\n",
        "# store the loss and the % correct at each epoch\n",
        "losses_train = np.zeros((n_epoch))\n",
        "errors_train = np.zeros((n_epoch))\n",
        "losses_val = np.zeros((n_epoch))\n",
        "errors_val = np.zeros((n_epoch))\n",
        "\n",
        "for epoch in range(n_epoch):\n",
        "  # loop over batches\n",
        "  for i, data in enumerate(data_loader):\n",
        "    # retrieve inputs and labels for this batch\n",
        "    x_batch, y_batch = data\n",
        "    # zero the parameter gradients\n",
        "    optimizer.zero_grad()\n",
        "    # forward pass -- calculate model output\n",
        "    pred = model(x_batch)\n",
        "    # compute the loss\n",
        "    loss = loss_function(pred, y_batch)\n",
        "    # backward pass\n",
        "    loss.backward()\n",
        "    # SGD update\n",
        "    optimizer.step()\n",
        "\n",
        "  # Run whole dataset to get statistics -- normally wouldn't do this\n",
        "  pred_train = model(x_train)\n",
        "  pred_val = model(x_val)\n",
        "  _, predicted_train_class = torch.max(pred_train.data, 1)\n",
        "  _, predicted_val_class = torch.max(pred_val.data, 1)\n",
        "  errors_train[epoch] = 100 - 100 * (predicted_train_class == y_train).float().sum() / len(y_train)\n",
        "  errors_val[epoch]= 100 - 100 * (predicted_val_class == y_val).float().sum() / len(y_val)\n",
        "  losses_train[epoch] = loss_function(pred_train, y_train).item()\n",
        "  losses_val[epoch]= loss_function(pred_val, y_val).item()\n",
        "  print(f'Epoch {epoch:5d}, train loss {losses_train[epoch]:.6f}, train error {errors_train[epoch]:3.2f},  val loss {losses_val[epoch]:.6f}, percent error {errors_val[epoch]:3.2f}')\n",
        "\n",
        "  # tell scheduler to consider updating learning rate\n",
        "  scheduler.step()"
      ]
    },
    {
      "cell_type": "code",
      "execution_count": 48,
      "metadata": {
        "id": "CcP_VyEmE2sv"
      },
      "outputs": [
        {
          "data": {
            "image/png": "[encoded data removed]",
            "text/plain": [
              "<Figure size 640x480 with 1 Axes>"
            ]
          },
          "metadata": {},
          "output_type": "display_data"
        }
      ],
      "source": [
        "# Plot the results\n",
        "fig, ax = plt.subplots()\n",
        "ax.plot(errors_train,'r-',label='train')\n",
        "ax.plot(errors_val,'b-',label='test')\n",
        "ax.set_ylim(0,100); ax.set_xlim(0,n_epoch)\n",
        "ax.set_xlabel('Epoch'); ax.set_ylabel('Error')\n",
        "ax.set_title('TrainError %3.2f, Val Error %3.2f'%(errors_train[-1],errors_val[-1]))\n",
        "ax.legend()\n",
        "plt.show()"
      ]
    },
    {
      "cell_type": "markdown",
      "metadata": {
        "id": "wMmqhmxuAx0M"
      },
      "source": [
        "The primary motivation of residual networks is to allow training of much deeper networks.   \n",
        "\n",
        "TODO: Try running this network with and without the residual connections.  Does adding the residual connections change the performance?"
      ]
    }
  ],
  "metadata": {
    "colab": {
      "authorship_tag": "ABX9TyNIY8tswL9e48d5D53aSmHO",
      "include_colab_link": true,
      "provenance": []
    },
    "kernelspec": {
      "display_name": "Python 3",
      "name": "python3"
    },
    "language_info": {
      "codemirror_mode": {
        "name": "ipython",
        "version": 3
      },
      "file_extension": ".py",
      "mimetype": "text/x-python",
      "name": "python",
      "nbconvert_exporter": "python",
      "pygments_lexer": "ipython3",
      "version": "3.10.12"
    }
  },
  "nbformat": 4,
  "nbformat_minor": 0
}
