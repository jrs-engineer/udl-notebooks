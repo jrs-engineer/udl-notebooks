{
  "cells": [
    {
      "cell_type": "markdown",
      "metadata": {
        "colab_type": "text",
        "id": "view-in-github"
      },
      "source": [
        "<a href=\"https://colab.research.google.com/github/udlbook/udlbook/blob/main/Notebooks/Chap10/10_2_Convolution_for_MNIST_1D.ipynb\" target=\"_parent\"><img src=\"https://colab.research.google.com/assets/colab-badge.svg\" alt=\"Open In Colab\"/></a>"
      ]
    },
    {
      "cell_type": "markdown",
      "metadata": {
        "id": "t9vk9Elugvmi"
      },
      "source": [
        "# **Notebook 10.2: Convolution for MNIST-1D**\n",
        "\n",
        "This notebook investigates a 1D convolutional network for MNIST-1D as in figure 10.7 and 10.8a.\n",
        "\n",
        "Work through the cells below, running each cell in turn. In various places you will see the words \"TO DO\". Follow the instructions at these places and make predictions about what is going to happen or write code to complete the functions.\n",
        "\n",
        "Contact me at udlbookmail@gmail.com if you find any mistakes or have any suggestions.\n",
        "\n"
      ]
    },
    {
      "cell_type": "code",
      "execution_count": 1,
      "metadata": {
        "id": "YrXWAH7sUWvU"
      },
      "outputs": [],
      "source": [
        "import numpy as np\n",
        "import os\n",
        "import torch, torch.nn as nn\n",
        "from torch.utils.data import TensorDataset, DataLoader\n",
        "from torch.optim.lr_scheduler import StepLR\n",
        "import matplotlib.pyplot as plt\n",
        "import mnist1d\n",
        "import random"
      ]
    },
    {
      "cell_type": "code",
      "execution_count": 2,
      "metadata": {
        "id": "twI72ZCrCt5z"
      },
      "outputs": [
        {
          "name": "stdout",
          "output_type": "stream",
          "text": [
            "Did or could not load data from ./mnist1d_data.pkl. Rebuilding dataset...\n",
            "Examples in training set: 4000\n",
            "Examples in test set: 1000\n",
            "Length of each example: 40\n"
          ]
        }
      ],
      "source": [
        "args = mnist1d.data.get_dataset_args()\n",
        "data = mnist1d.data.get_dataset(args, path='./mnist1d_data.pkl', download=False, regenerate=False)\n",
        "\n",
        "# The training and test input and outputs are in\n",
        "# data['x'], data['y'], data['x_test'], and data['y_test']\n",
        "print(\"Examples in training set: {}\".format(len(data['y'])))\n",
        "print(\"Examples in test set: {}\".format(len(data['y_test'])))\n",
        "print(\"Length of each example: {}\".format(data['x'].shape[-1]))"
      ]
    },
    {
      "cell_type": "code",
      "execution_count": 3,
      "metadata": {
        "id": "8bKADvLHbiV5"
      },
      "outputs": [
        {
          "name": "stdout",
          "output_type": "stream",
          "text": [
            "Train data: 4000 examples (columns), each of which has 40 dimensions (rows)\n",
            "Validation data: 1000 examples (columns), each of which has 40 dimensions (rows)\n"
          ]
        }
      ],
      "source": [
        "# Load in the data\n",
        "train_data_x = data['x'].transpose()\n",
        "train_data_y = data['y']\n",
        "val_data_x = data['x_test'].transpose()\n",
        "val_data_y = data['y_test']\n",
        "# Print out sizes\n",
        "print(\"Train data: %d examples (columns), each of which has %d dimensions (rows)\"%((train_data_x.shape[1],train_data_x.shape[0])))\n",
        "print(\"Validation data: %d examples (columns), each of which has %d dimensions (rows)\"%((val_data_x.shape[1],val_data_x.shape[0])))"
      ]
    },
    {
      "cell_type": "markdown",
      "metadata": {
        "id": "_sFvRDGrl4qe"
      },
      "source": [
        "Define the network"
      ]
    },
    {
      "cell_type": "code",
      "execution_count": 4,
      "metadata": {
        "id": "FslroPJJffrh"
      },
      "outputs": [],
      "source": [
        "# There are 40 input dimensions and 10 output dimensions for this data\n",
        "# The inputs correspond to the 40 offsets in the MNIST1D template.\n",
        "D_i = 40\n",
        "# The outputs correspond to the 10 digits\n",
        "D_o = 10\n",
        "\n",
        "\n",
        "# TODO Create a model with the following layers\n",
        "# 1. Convolutional layer, (input=length 40 and 1 channel, kernel size 3, stride 2, padding=\"valid\", 15 output channels )\n",
        "# 2. ReLU\n",
        "# 3. Convolutional layer, (input=length 19 and 15 channels, kernel size 3, stride 2, padding=\"valid\", 15 output channels )\n",
        "# 4. ReLU\n",
        "# 5. Convolutional layer, (input=length 9 and 15 channels, kernel size 3, stride 2, padding=\"valid\", 15 output channels)\n",
        "# 6. ReLU\n",
        "# 7. Flatten (converts 4x15) to length 60\n",
        "# 8. Linear layer (input size = 60, output size = 10)\n",
        "# References:\n",
        "# https://pytorch.org/docs/1.13/generated/torch.nn.Conv1d.html?highlight=conv1d#torch.nn.Conv1d\n",
        "# https://pytorch.org/docs/stable/generated/torch.nn.Flatten.html\n",
        "# https://pytorch.org/docs/1.13/generated/torch.nn.Linear.html?highlight=linear#torch.nn.Linear\n",
        "\n",
        "# NOTE THAT THE CONVOLUTIONAL LAYERS NEED TO TAKE THE NUMBER OF INPUT CHANNELS AS A PARAMETER\n",
        "# AND NOT THE INPUT SIZE.\n",
        "\n",
        "# Replace the following function:\n",
        "model = nn.Sequential(\n",
        "nn.Conv1d(1, 15, 3, 2, \"valid\"),\n",
        "nn.ReLU(),\n",
        "nn.Conv1d(15, 15, 3, 2, \"valid\"),\n",
        "nn.ReLU(),\n",
        "nn.Conv1d(15, 15, 3, 2, \"valid\"),\n",
        "nn.ReLU(),\n",
        "nn.Flatten(),\n",
        "nn.Linear(60, 10))\n",
        "\n",
        "\n",
        "\n"
      ]
    },
    {
      "cell_type": "code",
      "execution_count": 5,
      "metadata": {
        "id": "YgLaex1pfhqz"
      },
      "outputs": [],
      "source": [
        "# He initialization of weights\n",
        "def weights_init(layer_in):\n",
        "  if isinstance(layer_in, nn.Linear):\n",
        "    nn.init.kaiming_uniform_(layer_in.weight)\n",
        "    layer_in.bias.data.fill_(0.0)"
      ]
    },
    {
      "cell_type": "code",
      "execution_count": 6,
      "metadata": {
        "id": "NYw8I_3mmX5c"
      },
      "outputs": [
        {
          "name": "stdout",
          "output_type": "stream",
          "text": [
            "Epoch     0, train loss 1.965927, train error 78.38,  val loss 1.975062, percent error 79.00\n",
            "Epoch     1, train loss 1.601761, train error 64.00,  val loss 1.613775, percent error 65.90\n",
            "Epoch     2, train loss 1.436079, train error 56.12,  val loss 1.443741, percent error 57.50\n",
            "Epoch     3, train loss 1.315393, train error 52.22,  val loss 1.335896, percent error 54.30\n",
            "Epoch     4, train loss 1.196164, train error 46.97,  val loss 1.204742, percent error 48.80\n",
            "Epoch     5, train loss 1.113809, train error 44.72,  val loss 1.113200, percent error 45.60\n",
            "Epoch     6, train loss 1.100697, train error 42.92,  val loss 1.137331, percent error 46.30\n",
            "Epoch     7, train loss 0.892511, train error 34.38,  val loss 0.931414, percent error 37.10\n",
            "Epoch     8, train loss 0.804900, train error 31.30,  val loss 0.824921, percent error 33.50\n",
            "Epoch     9, train loss 0.699074, train error 26.62,  val loss 0.733589, percent error 28.70\n",
            "Epoch    10, train loss 0.691408, train error 25.90,  val loss 0.784301, percent error 31.50\n",
            "Epoch    11, train loss 0.636042, train error 25.38,  val loss 0.732547, percent error 29.70\n",
            "Epoch    12, train loss 0.575658, train error 22.35,  val loss 0.642591, percent error 26.10\n",
            "Epoch    13, train loss 0.593483, train error 22.68,  val loss 0.700769, percent error 26.50\n",
            "Epoch    14, train loss 0.468988, train error 17.28,  val loss 0.573124, percent error 20.80\n",
            "Epoch    15, train loss 0.427612, train error 15.75,  val loss 0.551543, percent error 19.90\n",
            "Epoch    16, train loss 0.365461, train error 13.47,  val loss 0.487592, percent error 18.70\n",
            "Epoch    17, train loss 0.375736, train error 13.35,  val loss 0.532184, percent error 18.70\n",
            "Epoch    18, train loss 0.343253, train error 12.95,  val loss 0.478809, percent error 16.30\n",
            "Epoch    19, train loss 0.279600, train error 9.65,  val loss 0.429608, percent error 14.70\n",
            "Epoch    20, train loss 0.208951, train error 7.07,  val loss 0.351544, percent error 13.00\n",
            "Epoch    21, train loss 0.281595, train error 10.43,  val loss 0.441735, percent error 15.90\n",
            "Epoch    22, train loss 0.179363, train error 6.03,  val loss 0.351388, percent error 11.90\n",
            "Epoch    23, train loss 0.186383, train error 6.90,  val loss 0.355290, percent error 12.30\n",
            "Epoch    24, train loss 0.177079, train error 6.18,  val loss 0.377054, percent error 12.00\n",
            "Epoch    25, train loss 0.148263, train error 4.70,  val loss 0.340116, percent error 12.00\n",
            "Epoch    26, train loss 0.184434, train error 6.57,  val loss 0.386778, percent error 12.30\n",
            "Epoch    27, train loss 0.193817, train error 6.57,  val loss 0.411270, percent error 13.00\n",
            "Epoch    28, train loss 0.131782, train error 4.22,  val loss 0.348664, percent error 11.30\n",
            "Epoch    29, train loss 0.133592, train error 4.10,  val loss 0.330383, percent error 11.60\n",
            "Epoch    30, train loss 0.143680, train error 4.97,  val loss 0.330152, percent error 11.60\n",
            "Epoch    31, train loss 0.117084, train error 3.78,  val loss 0.319780, percent error 10.10\n",
            "Epoch    32, train loss 0.183292, train error 6.85,  val loss 0.452222, percent error 14.40\n",
            "Epoch    33, train loss 0.147604, train error 5.70,  val loss 0.369776, percent error 11.40\n",
            "Epoch    34, train loss 0.112042, train error 4.05,  val loss 0.315082, percent error 10.60\n",
            "Epoch    35, train loss 0.115433, train error 4.32,  val loss 0.325274, percent error 10.80\n",
            "Epoch    36, train loss 0.100249, train error 3.18,  val loss 0.338991, percent error 10.20\n",
            "Epoch    37, train loss 0.086027, train error 2.47,  val loss 0.321817, percent error 9.80\n",
            "Epoch    38, train loss 0.095186, train error 3.07,  val loss 0.330751, percent error 9.70\n",
            "Epoch    39, train loss 0.090305, train error 3.07,  val loss 0.328848, percent error 9.90\n",
            "Epoch    40, train loss 0.067680, train error 1.75,  val loss 0.313825, percent error 9.70\n",
            "Epoch    41, train loss 0.067525, train error 2.18,  val loss 0.334225, percent error 9.50\n",
            "Epoch    42, train loss 0.063462, train error 1.65,  val loss 0.320228, percent error 9.10\n",
            "Epoch    43, train loss 0.061745, train error 1.65,  val loss 0.318623, percent error 8.40\n",
            "Epoch    44, train loss 0.060682, train error 1.60,  val loss 0.330596, percent error 9.40\n",
            "Epoch    45, train loss 0.056126, train error 1.43,  val loss 0.327562, percent error 9.20\n",
            "Epoch    46, train loss 0.059569, train error 1.62,  val loss 0.340088, percent error 9.50\n",
            "Epoch    47, train loss 0.056412, train error 1.38,  val loss 0.351721, percent error 9.80\n",
            "Epoch    48, train loss 0.054156, train error 1.55,  val loss 0.332749, percent error 9.30\n",
            "Epoch    49, train loss 0.050976, train error 1.12,  val loss 0.331738, percent error 8.50\n",
            "Epoch    50, train loss 0.052707, train error 1.35,  val loss 0.359588, percent error 9.60\n",
            "Epoch    51, train loss 0.052226, train error 1.25,  val loss 0.345800, percent error 9.80\n",
            "Epoch    52, train loss 0.054253, train error 1.43,  val loss 0.360374, percent error 9.60\n",
            "Epoch    53, train loss 0.049262, train error 1.22,  val loss 0.340240, percent error 9.70\n",
            "Epoch    54, train loss 0.048718, train error 1.03,  val loss 0.349767, percent error 9.60\n",
            "Epoch    55, train loss 0.051339, train error 1.40,  val loss 0.352309, percent error 9.60\n",
            "Epoch    56, train loss 0.043808, train error 0.95,  val loss 0.367934, percent error 9.80\n",
            "Epoch    57, train loss 0.042337, train error 0.82,  val loss 0.373265, percent error 9.80\n",
            "Epoch    58, train loss 0.048161, train error 1.28,  val loss 0.379962, percent error 10.40\n",
            "Epoch    59, train loss 0.043402, train error 0.90,  val loss 0.368137, percent error 9.80\n",
            "Epoch    60, train loss 0.037229, train error 0.55,  val loss 0.366567, percent error 9.00\n",
            "Epoch    61, train loss 0.036540, train error 0.50,  val loss 0.363583, percent error 9.00\n",
            "Epoch    62, train loss 0.036017, train error 0.45,  val loss 0.368174, percent error 9.40\n",
            "Epoch    63, train loss 0.034692, train error 0.55,  val loss 0.372808, percent error 8.80\n",
            "Epoch    64, train loss 0.034225, train error 0.50,  val loss 0.371078, percent error 8.90\n",
            "Epoch    65, train loss 0.033983, train error 0.47,  val loss 0.370378, percent error 9.40\n",
            "Epoch    66, train loss 0.033714, train error 0.47,  val loss 0.376455, percent error 9.40\n",
            "Epoch    67, train loss 0.032514, train error 0.50,  val loss 0.370270, percent error 8.80\n",
            "Epoch    68, train loss 0.032388, train error 0.32,  val loss 0.380075, percent error 9.60\n",
            "Epoch    69, train loss 0.034018, train error 0.47,  val loss 0.395497, percent error 9.90\n",
            "Epoch    70, train loss 0.031634, train error 0.40,  val loss 0.384806, percent error 9.20\n",
            "Epoch    71, train loss 0.031783, train error 0.38,  val loss 0.377096, percent error 9.20\n",
            "Epoch    72, train loss 0.030907, train error 0.38,  val loss 0.384451, percent error 9.40\n",
            "Epoch    73, train loss 0.030766, train error 0.40,  val loss 0.387863, percent error 9.10\n",
            "Epoch    74, train loss 0.030667, train error 0.32,  val loss 0.385351, percent error 9.40\n",
            "Epoch    75, train loss 0.030833, train error 0.43,  val loss 0.394814, percent error 9.30\n",
            "Epoch    76, train loss 0.031030, train error 0.50,  val loss 0.398727, percent error 9.50\n",
            "Epoch    77, train loss 0.029198, train error 0.35,  val loss 0.392243, percent error 9.30\n",
            "Epoch    78, train loss 0.028190, train error 0.22,  val loss 0.397946, percent error 9.40\n",
            "Epoch    79, train loss 0.028482, train error 0.38,  val loss 0.405334, percent error 9.80\n",
            "Epoch    80, train loss 0.027286, train error 0.28,  val loss 0.400532, percent error 9.60\n",
            "Epoch    81, train loss 0.026941, train error 0.25,  val loss 0.395376, percent error 9.30\n",
            "Epoch    82, train loss 0.027912, train error 0.40,  val loss 0.396908, percent error 9.30\n",
            "Epoch    83, train loss 0.026888, train error 0.28,  val loss 0.404244, percent error 9.20\n",
            "Epoch    84, train loss 0.026555, train error 0.25,  val loss 0.398788, percent error 9.50\n",
            "Epoch    85, train loss 0.026522, train error 0.30,  val loss 0.402069, percent error 9.20\n",
            "Epoch    86, train loss 0.026729, train error 0.25,  val loss 0.398854, percent error 9.40\n",
            "Epoch    87, train loss 0.025857, train error 0.20,  val loss 0.403066, percent error 9.40\n",
            "Epoch    88, train loss 0.026225, train error 0.25,  val loss 0.400772, percent error 9.30\n",
            "Epoch    89, train loss 0.025646, train error 0.22,  val loss 0.406915, percent error 9.30\n",
            "Epoch    90, train loss 0.025781, train error 0.22,  val loss 0.404862, percent error 9.30\n",
            "Epoch    91, train loss 0.026003, train error 0.30,  val loss 0.406721, percent error 9.60\n",
            "Epoch    92, train loss 0.025093, train error 0.22,  val loss 0.408050, percent error 9.70\n",
            "Epoch    93, train loss 0.025342, train error 0.22,  val loss 0.412677, percent error 9.80\n",
            "Epoch    94, train loss 0.024744, train error 0.25,  val loss 0.408322, percent error 9.30\n",
            "Epoch    95, train loss 0.024756, train error 0.22,  val loss 0.413749, percent error 9.50\n",
            "Epoch    96, train loss 0.024430, train error 0.18,  val loss 0.409061, percent error 9.70\n",
            "Epoch    97, train loss 0.024492, train error 0.25,  val loss 0.413799, percent error 9.50\n",
            "Epoch    98, train loss 0.024501, train error 0.20,  val loss 0.413220, percent error 9.20\n",
            "Epoch    99, train loss 0.024343, train error 0.20,  val loss 0.409369, percent error 9.60\n"
          ]
        },
        {
          "data": {
            "image/png": "[encoded data removed]",
            "text/plain": [
              "<Figure size 640x480 with 1 Axes>"
            ]
          },
          "metadata": {},
          "output_type": "display_data"
        }
      ],
      "source": [
        "# choose cross entropy loss function (equation 5.24 in the loss notes)\n",
        "loss_function = nn.CrossEntropyLoss()\n",
        "# construct SGD optimizer and initialize learning rate and momentum\n",
        "optimizer = torch.optim.SGD(model.parameters(), lr = 0.05, momentum=0.9)\n",
        "# object that decreases learning rate by half every 20 epochs\n",
        "scheduler = StepLR(optimizer, step_size=20, gamma=0.5)\n",
        "# create 100 dummy data points and store in data loader class\n",
        "x_train = torch.tensor(train_data_x.transpose().astype('float32'))\n",
        "y_train = torch.tensor(train_data_y.astype('long')).long()\n",
        "x_val= torch.tensor(val_data_x.transpose().astype('float32'))\n",
        "y_val = torch.tensor(val_data_y.astype('long')).long()\n",
        "\n",
        "# load the data into a class that creates the batches\n",
        "data_loader = DataLoader(TensorDataset(x_train,y_train), batch_size=100, shuffle=True, worker_init_fn=np.random.seed(1))\n",
        "\n",
        "# Initialize model weights\n",
        "model.apply(weights_init)\n",
        "\n",
        "# loop over the dataset n_epoch times\n",
        "n_epoch = 100\n",
        "# store the loss and the % correct at each epoch\n",
        "losses_train = np.zeros((n_epoch))\n",
        "errors_train = np.zeros((n_epoch))\n",
        "losses_val = np.zeros((n_epoch))\n",
        "errors_val = np.zeros((n_epoch))\n",
        "\n",
        "for epoch in range(n_epoch):\n",
        "  # loop over batches\n",
        "  for i, data in enumerate(data_loader):\n",
        "    # retrieve inputs and labels for this batch\n",
        "    x_batch, y_batch = data\n",
        "    # zero the parameter gradients\n",
        "    optimizer.zero_grad()\n",
        "    # forward pass -- calculate model output\n",
        "    pred = model(x_batch[:,None,:])\n",
        "    # compute the loss\n",
        "    loss = loss_function(pred, y_batch)\n",
        "    # backward pass\n",
        "    loss.backward()\n",
        "    # SGD update\n",
        "    optimizer.step()\n",
        "\n",
        "  # Run whole dataset to get statistics -- normally wouldn't do this\n",
        "  pred_train = model(x_train[:,None,:])\n",
        "  pred_val = model(x_val[:,None,:])\n",
        "  _, predicted_train_class = torch.max(pred_train.data, 1)\n",
        "  _, predicted_val_class = torch.max(pred_val.data, 1)\n",
        "  errors_train[epoch] = 100 - 100 * (predicted_train_class == y_train).float().sum() / len(y_train)\n",
        "  errors_val[epoch]= 100 - 100 * (predicted_val_class == y_val).float().sum() / len(y_val)\n",
        "  losses_train[epoch] = loss_function(pred_train, y_train).item()\n",
        "  losses_val[epoch]= loss_function(pred_val, y_val).item()\n",
        "  print(f'Epoch {epoch:5d}, train loss {losses_train[epoch]:.6f}, train error {errors_train[epoch]:3.2f},  val loss {losses_val[epoch]:.6f}, percent error {errors_val[epoch]:3.2f}')\n",
        "\n",
        "  # tell scheduler to consider updating learning rate\n",
        "  scheduler.step()\n",
        "\n",
        "# Plot the results\n",
        "fig, ax = plt.subplots()\n",
        "ax.plot(errors_train,'r-',label='train')\n",
        "ax.plot(errors_val,'b-',label='validation')\n",
        "ax.set_ylim(0,100); ax.set_xlim(0,n_epoch)\n",
        "ax.set_xlabel('Epoch'); ax.set_ylabel('Error')\n",
        "ax.set_title('Part I: Validation Result %3.2f'%(errors_val[-1]))\n",
        "ax.legend()\n",
        "plt.show()"
      ]
    }
  ],
  "metadata": {
    "colab": {
      "authorship_tag": "ABX9TyNb46PJB/CC1pcHGfjpUUZg",
      "include_colab_link": true,
      "provenance": []
    },
    "kernelspec": {
      "display_name": "Python 3",
      "name": "python3"
    },
    "language_info": {
      "codemirror_mode": {
        "name": "ipython",
        "version": 3
      },
      "file_extension": ".py",
      "mimetype": "text/x-python",
      "name": "python",
      "nbconvert_exporter": "python",
      "pygments_lexer": "ipython3",
      "version": "3.10.12"
    }
  },
  "nbformat": 4,
  "nbformat_minor": 0
}
