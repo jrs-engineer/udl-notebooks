{
  "cells": [
    {
      "cell_type": "markdown",
      "metadata": {
        "colab_type": "text",
        "id": "view-in-github"
      },
      "source": [
        "<a href=\"https://colab.research.google.com/github/udlbook/udlbook/blob/main/Notebooks/Chap10/10_5_Convolution_For_MNIST.ipynb\" target=\"_parent\"><img src=\"https://colab.research.google.com/assets/colab-badge.svg\" alt=\"Open In Colab\"/></a>"
      ]
    },
    {
      "cell_type": "markdown",
      "metadata": {
        "id": "t9vk9Elugvmi"
      },
      "source": [
        "# **Notebook 10.5: Convolution for MNIST**\n",
        "\n",
        "This notebook builds a proper network for 2D convolution.  It works with the MNIST dataset (figure 15.15a), which was the original classic dataset for classifying images.  The network will take a 28x28 grayscale image and classify it into one of 10 classes representing a digit.\n",
        "\n",
        "The code is adapted from https://nextjournal.com/gkoehler/pytorch-mnist\n",
        "\n",
        "Work through the cells below, running each cell in turn. In various places you will see the words \"TO DO\". Follow the instructions at these places and make predictions about what is going to happen or write code to complete the functions.\n",
        "\n",
        "Contact me at udlbookmail@gmail.com if you find any mistakes or have any suggestions.\n"
      ]
    },
    {
      "cell_type": "code",
      "execution_count": 1,
      "metadata": {
        "id": "YrXWAH7sUWvU"
      },
      "outputs": [],
      "source": [
        "import torch\n",
        "import torchvision\n",
        "import torch.nn as nn\n",
        "import torch.nn.functional as F\n",
        "import torch.optim as optim\n",
        "import matplotlib.pyplot as plt\n",
        "import random"
      ]
    },
    {
      "cell_type": "code",
      "execution_count": 2,
      "metadata": {
        "id": "wScBGXXFVadm"
      },
      "outputs": [
        {
          "name": "stdout",
          "output_type": "stream",
          "text": [
            "Downloading http://yann.lecun.com/exdb/mnist/train-images-idx3-ubyte.gz\n",
            "Failed to download (trying next):\n",
            "HTTP Error 403: Forbidden\n",
            "\n",
            "Downloading https://ossci-datasets.s3.amazonaws.com/mnist/train-images-idx3-ubyte.gz\n",
            "Downloading https://ossci-datasets.s3.amazonaws.com/mnist/train-images-idx3-ubyte.gz to ./files/MNIST/raw/train-images-idx3-ubyte.gz\n"
          ]
        },
        {
          "name": "stderr",
          "output_type": "stream",
          "text": [
            "100.0%\n"
          ]
        },
        {
          "name": "stdout",
          "output_type": "stream",
          "text": [
            "Extracting ./files/MNIST/raw/train-images-idx3-ubyte.gz to ./files/MNIST/raw\n",
            "\n",
            "Downloading http://yann.lecun.com/exdb/mnist/train-labels-idx1-ubyte.gz\n",
            "Failed to download (trying next):\n",
            "HTTP Error 403: Forbidden\n",
            "\n",
            "Downloading https://ossci-datasets.s3.amazonaws.com/mnist/train-labels-idx1-ubyte.gz\n",
            "Downloading https://ossci-datasets.s3.amazonaws.com/mnist/train-labels-idx1-ubyte.gz to ./files/MNIST/raw/train-labels-idx1-ubyte.gz\n"
          ]
        },
        {
          "name": "stderr",
          "output_type": "stream",
          "text": [
            "100.0%\n"
          ]
        },
        {
          "name": "stdout",
          "output_type": "stream",
          "text": [
            "Extracting ./files/MNIST/raw/train-labels-idx1-ubyte.gz to ./files/MNIST/raw\n",
            "\n",
            "Downloading http://yann.lecun.com/exdb/mnist/t10k-images-idx3-ubyte.gz\n",
            "Failed to download (trying next):\n",
            "HTTP Error 403: Forbidden\n",
            "\n",
            "Downloading https://ossci-datasets.s3.amazonaws.com/mnist/t10k-images-idx3-ubyte.gz\n",
            "Downloading https://ossci-datasets.s3.amazonaws.com/mnist/t10k-images-idx3-ubyte.gz to ./files/MNIST/raw/t10k-images-idx3-ubyte.gz\n"
          ]
        },
        {
          "name": "stderr",
          "output_type": "stream",
          "text": [
            "100.0%\n"
          ]
        },
        {
          "name": "stdout",
          "output_type": "stream",
          "text": [
            "Extracting ./files/MNIST/raw/t10k-images-idx3-ubyte.gz to ./files/MNIST/raw\n",
            "\n",
            "Downloading http://yann.lecun.com/exdb/mnist/t10k-labels-idx1-ubyte.gz\n",
            "Failed to download (trying next):\n",
            "HTTP Error 403: Forbidden\n",
            "\n",
            "Downloading https://ossci-datasets.s3.amazonaws.com/mnist/t10k-labels-idx1-ubyte.gz\n",
            "Downloading https://ossci-datasets.s3.amazonaws.com/mnist/t10k-labels-idx1-ubyte.gz to ./files/MNIST/raw/t10k-labels-idx1-ubyte.gz\n"
          ]
        },
        {
          "name": "stderr",
          "output_type": "stream",
          "text": [
            "100.0%"
          ]
        },
        {
          "name": "stdout",
          "output_type": "stream",
          "text": [
            "Extracting ./files/MNIST/raw/t10k-labels-idx1-ubyte.gz to ./files/MNIST/raw\n",
            "\n"
          ]
        },
        {
          "name": "stderr",
          "output_type": "stream",
          "text": [
            "\n"
          ]
        }
      ],
      "source": [
        "# Run this once to load the train and test data straight into a dataloader class\n",
        "# that will provide the batches\n",
        "batch_size_train = 64\n",
        "batch_size_test = 1000\n",
        "train_loader = torch.utils.data.DataLoader(\n",
        "  torchvision.datasets.MNIST('./files/', train=True, download=True,\n",
        "                             transform=torchvision.transforms.Compose([\n",
        "                               torchvision.transforms.ToTensor(),\n",
        "                               torchvision.transforms.Normalize(\n",
        "                                 (0.1307,), (0.3081,))\n",
        "                             ])),\n",
        "  batch_size=batch_size_train, shuffle=True)\n",
        "\n",
        "test_loader = torch.utils.data.DataLoader(\n",
        "  torchvision.datasets.MNIST('./files/', train=False, download=True,\n",
        "                             transform=torchvision.transforms.Compose([\n",
        "                               torchvision.transforms.ToTensor(),\n",
        "                               torchvision.transforms.Normalize(\n",
        "                                 (0.1307,), (0.3081,))\n",
        "                             ])),\n",
        "  batch_size=batch_size_test, shuffle=True)"
      ]
    },
    {
      "cell_type": "code",
      "execution_count": 3,
      "metadata": {
        "id": "8bKADvLHbiV5"
      },
      "outputs": [
        {
          "data": {
            "image/png": "[encoded data removed]",
            "text/plain": [
              "<Figure size 640x480 with 6 Axes>"
            ]
          },
          "metadata": {},
          "output_type": "display_data"
        }
      ],
      "source": [
        "# Let's draw some of the training data\n",
        "examples = enumerate(test_loader)\n",
        "batch_idx, (example_data, example_targets) = next(examples)\n",
        "\n",
        "fig = plt.figure()\n",
        "for i in range(6):\n",
        "  plt.subplot(2,3,i+1)\n",
        "  plt.tight_layout()\n",
        "  plt.imshow(example_data[i][0], cmap='gray', interpolation='none')\n",
        "  plt.title(\"Ground Truth: {}\".format(example_targets[i]))\n",
        "  plt.xticks([])\n",
        "  plt.yticks([])\n",
        "plt.show()"
      ]
    },
    {
      "cell_type": "markdown",
      "metadata": {
        "id": "_sFvRDGrl4qe"
      },
      "source": [
        "Define the network.  This is a more typical way to define a network than the sequential structure.  We define a class for the network, and define the parameters in the constructor.  Then we use a function called forward to actually run the network.  It's easy to see how you might use residual connections in this format."
      ]
    },
    {
      "cell_type": "code",
      "execution_count": 29,
      "metadata": {
        "id": "EQkvw2KOPVl7"
      },
      "outputs": [],
      "source": [
        "from os import X_OK\n",
        "# TODO Change this class to implement\n",
        "# 1. A valid convolution with kernel size 5, 1 input channel and 10 output channels\n",
        "# 2. A max pooling operation over a 2x2 area\n",
        "# 3. A Relu\n",
        "# 4. A valid convolution with kernel size 5, 10 input channels and 20 output channels\n",
        "# 5. A 2D Dropout layer\n",
        "# 6. A max pooling operation over a 2x2 area\n",
        "# 7. A relu\n",
        "# 8. A flattening operation\n",
        "# 9. A fully connected layer mapping from (whatever dimensions we are at-- find out using .shape) to 50\n",
        "# 10. A ReLU\n",
        "# 11. A fully connected layer mapping from 50 to 10 dimensions\n",
        "# 12. A softmax function.\n",
        "\n",
        "# Replace this class which implements a minimal network (which still does okay)\n",
        "class Net(nn.Module):\n",
        "    def __init__(self):\n",
        "        super(Net, self).__init__()\n",
        "        # Valid convolution, 1 channel in, 2 channels out, stride 1, kernel size = 3\n",
        "        self.conv1 = nn.Conv2d(1, 10, kernel_size=3)\n",
        "        self.conv2 = nn.Conv2d(10, 20, kernel_size=5)\n",
        "        # Dropout for convolutions\n",
        "        self.drop = nn.Dropout2d()\n",
        "        # Fully connected layer\n",
        "        self.fc1 = nn.Linear(320, 50)\n",
        "        self.fc2 = nn.Linear(50, 10)\n",
        "\n",
        "    def forward(self, x):\n",
        "        x = self.conv1(x)\n",
        "        x = F.max_pool2d(x,2)\n",
        "        x = F.relu(x)\n",
        "        x = self.conv2(x)\n",
        "        x = self.drop(x)\n",
        "        x = F.max_pool2d(x,2)\n",
        "        x = F.relu(x)\n",
        "        x = x.flatten(1)\n",
        "        x = self.fc1(x)\n",
        "        x = F.relu(x)\n",
        "        x = self.fc2(x)\n",
        "        x = F.log_softmax(x)\n",
        "        return x\n"
      ]
    },
    {
      "cell_type": "code",
      "execution_count": 30,
      "metadata": {
        "id": "qWZtkCZcU_dg"
      },
      "outputs": [],
      "source": [
        "# He initialization of weights\n",
        "def weights_init(layer_in):\n",
        "  if isinstance(layer_in, nn.Linear):\n",
        "    nn.init.kaiming_uniform_(layer_in.weight)\n",
        "    layer_in.bias.data.fill_(0.0)"
      ]
    },
    {
      "cell_type": "code",
      "execution_count": 31,
      "metadata": {
        "id": "FslroPJJffrh"
      },
      "outputs": [],
      "source": [
        "# Create network\n",
        "model = Net()\n",
        "# Initialize model weights\n",
        "model.apply(weights_init)\n",
        "# Define optimizer\n",
        "optimizer = optim.SGD(model.parameters(), lr=0.01, momentum=0.5)"
      ]
    },
    {
      "cell_type": "code",
      "execution_count": 32,
      "metadata": {
        "id": "xKQd9PzkQ766"
      },
      "outputs": [],
      "source": [
        "# Main training routine\n",
        "def train(epoch):\n",
        "  model.train()\n",
        "  # Get each\n",
        "  for batch_idx, (data, target) in enumerate(train_loader):\n",
        "    optimizer.zero_grad()\n",
        "    output = model(data)\n",
        "    loss = F.nll_loss(output, target)\n",
        "    loss.backward()\n",
        "    optimizer.step()\n",
        "    # Store results\n",
        "    if batch_idx % 10 == 0:\n",
        "      print('Train Epoch: {} [{}/{}]\\tLoss: {:.6f}'.format(\n",
        "        epoch, batch_idx * len(data), len(train_loader.dataset), loss.item()))"
      ]
    },
    {
      "cell_type": "code",
      "execution_count": 33,
      "metadata": {
        "id": "Byn-f7qWRLxX"
      },
      "outputs": [],
      "source": [
        "# Run on test data\n",
        "def test():\n",
        "  model.eval()\n",
        "  test_loss = 0\n",
        "  correct = 0\n",
        "  with torch.no_grad():\n",
        "    for data, target in test_loader:\n",
        "      output = model(data)\n",
        "      test_loss += F.nll_loss(output, target, size_average=False).item()\n",
        "      pred = output.data.max(1, keepdim=True)[1]\n",
        "      correct += pred.eq(target.data.view_as(pred)).sum()\n",
        "  test_loss /= len(test_loader.dataset)\n",
        "  print('\\nTest set: Avg. loss: {:.4f}, Accuracy: {}/{} ({:.0f}%)\\n'.format(\n",
        "    test_loss, correct, len(test_loader.dataset),\n",
        "    100. * correct / len(test_loader.dataset)))"
      ]
    },
    {
      "cell_type": "code",
      "execution_count": 34,
      "metadata": {
        "id": "YgLaex1pfhqz"
      },
      "outputs": [
        {
          "name": "stderr",
          "output_type": "stream",
          "text": [
            "/tmp/ipykernel_2064/1540275665.py:41: UserWarning: Implicit dimension choice for log_softmax has been deprecated. Change the call to include dim=X as an argument.\n",
            "  x = F.log_softmax(x)\n",
            "/home/cool/.local/lib/python3.10/site-packages/torch/nn/_reduction.py:42: UserWarning: size_average and reduce args will be deprecated, please use reduction='sum' instead.\n",
            "  warnings.warn(warning.format(ret))\n"
          ]
        },
        {
          "name": "stdout",
          "output_type": "stream",
          "text": [
            "\n",
            "Test set: Avg. loss: 2.4304, Accuracy: 690/10000 (7%)\n",
            "\n",
            "Train Epoch: 1 [0/60000]\tLoss: 2.509903\n",
            "Train Epoch: 1 [640/60000]\tLoss: 2.171508\n",
            "Train Epoch: 1 [1280/60000]\tLoss: 2.079864\n",
            "Train Epoch: 1 [1920/60000]\tLoss: 1.703849\n",
            "Train Epoch: 1 [2560/60000]\tLoss: 1.503898\n",
            "Train Epoch: 1 [3200/60000]\tLoss: 1.469390\n",
            "Train Epoch: 1 [3840/60000]\tLoss: 1.239896\n",
            "Train Epoch: 1 [4480/60000]\tLoss: 1.056273\n",
            "Train Epoch: 1 [5120/60000]\tLoss: 1.103004\n",
            "Train Epoch: 1 [5760/60000]\tLoss: 0.810623\n",
            "Train Epoch: 1 [6400/60000]\tLoss: 0.795272\n",
            "Train Epoch: 1 [7040/60000]\tLoss: 0.876283\n",
            "Train Epoch: 1 [7680/60000]\tLoss: 0.617204\n",
            "Train Epoch: 1 [8320/60000]\tLoss: 0.716874\n",
            "Train Epoch: 1 [8960/60000]\tLoss: 0.591478\n",
            "Train Epoch: 1 [9600/60000]\tLoss: 0.881042\n",
            "Train Epoch: 1 [10240/60000]\tLoss: 0.621805\n",
            "Train Epoch: 1 [10880/60000]\tLoss: 0.648628\n",
            "Train Epoch: 1 [11520/60000]\tLoss: 0.585790\n",
            "Train Epoch: 1 [12160/60000]\tLoss: 0.405157\n",
            "Train Epoch: 1 [12800/60000]\tLoss: 0.568508\n",
            "Train Epoch: 1 [13440/60000]\tLoss: 0.434908\n",
            "Train Epoch: 1 [14080/60000]\tLoss: 0.411094\n",
            "Train Epoch: 1 [14720/60000]\tLoss: 0.572954\n",
            "Train Epoch: 1 [15360/60000]\tLoss: 0.439307\n",
            "Train Epoch: 1 [16000/60000]\tLoss: 0.603384\n",
            "Train Epoch: 1 [16640/60000]\tLoss: 0.521352\n",
            "Train Epoch: 1 [17280/60000]\tLoss: 0.682948\n",
            "Train Epoch: 1 [17920/60000]\tLoss: 0.221424\n",
            "Train Epoch: 1 [18560/60000]\tLoss: 0.308173\n",
            "Train Epoch: 1 [19200/60000]\tLoss: 0.542901\n",
            "Train Epoch: 1 [19840/60000]\tLoss: 0.471757\n",
            "Train Epoch: 1 [20480/60000]\tLoss: 0.412076\n",
            "Train Epoch: 1 [21120/60000]\tLoss: 0.390918\n",
            "Train Epoch: 1 [21760/60000]\tLoss: 0.197290\n",
            "Train Epoch: 1 [22400/60000]\tLoss: 0.584568\n",
            "Train Epoch: 1 [23040/60000]\tLoss: 0.486262\n",
            "Train Epoch: 1 [23680/60000]\tLoss: 0.404397\n",
            "Train Epoch: 1 [24320/60000]\tLoss: 0.322693\n",
            "Train Epoch: 1 [24960/60000]\tLoss: 0.468494\n",
            "Train Epoch: 1 [25600/60000]\tLoss: 0.617029\n",
            "Train Epoch: 1 [26240/60000]\tLoss: 0.575385\n",
            "Train Epoch: 1 [26880/60000]\tLoss: 0.737272\n",
            "Train Epoch: 1 [27520/60000]\tLoss: 0.545988\n",
            "Train Epoch: 1 [28160/60000]\tLoss: 0.488557\n",
            "Train Epoch: 1 [28800/60000]\tLoss: 0.317143\n",
            "Train Epoch: 1 [29440/60000]\tLoss: 0.290320\n",
            "Train Epoch: 1 [30080/60000]\tLoss: 0.447767\n",
            "Train Epoch: 1 [30720/60000]\tLoss: 0.373219\n",
            "Train Epoch: 1 [31360/60000]\tLoss: 0.367671\n",
            "Train Epoch: 1 [32000/60000]\tLoss: 0.431961\n",
            "Train Epoch: 1 [32640/60000]\tLoss: 0.248659\n",
            "Train Epoch: 1 [33280/60000]\tLoss: 0.477009\n",
            "Train Epoch: 1 [33920/60000]\tLoss: 0.303331\n",
            "Train Epoch: 1 [34560/60000]\tLoss: 0.292236\n",
            "Train Epoch: 1 [35200/60000]\tLoss: 0.393213\n",
            "Train Epoch: 1 [35840/60000]\tLoss: 0.280193\n",
            "Train Epoch: 1 [36480/60000]\tLoss: 0.248925\n",
            "Train Epoch: 1 [37120/60000]\tLoss: 0.266342\n",
            "Train Epoch: 1 [37760/60000]\tLoss: 0.285228\n",
            "Train Epoch: 1 [38400/60000]\tLoss: 0.445665\n",
            "Train Epoch: 1 [39040/60000]\tLoss: 0.399484\n",
            "Train Epoch: 1 [39680/60000]\tLoss: 0.270468\n",
            "Train Epoch: 1 [40320/60000]\tLoss: 0.379262\n",
            "Train Epoch: 1 [40960/60000]\tLoss: 0.425038\n",
            "Train Epoch: 1 [41600/60000]\tLoss: 0.318403\n",
            "Train Epoch: 1 [42240/60000]\tLoss: 0.277856\n",
            "Train Epoch: 1 [42880/60000]\tLoss: 0.335324\n",
            "Train Epoch: 1 [43520/60000]\tLoss: 0.514097\n",
            "Train Epoch: 1 [44160/60000]\tLoss: 0.366469\n",
            "Train Epoch: 1 [44800/60000]\tLoss: 0.510137\n",
            "Train Epoch: 1 [45440/60000]\tLoss: 0.275838\n",
            "Train Epoch: 1 [46080/60000]\tLoss: 0.261845\n",
            "Train Epoch: 1 [46720/60000]\tLoss: 0.257396\n",
            "Train Epoch: 1 [47360/60000]\tLoss: 0.201173\n",
            "Train Epoch: 1 [48000/60000]\tLoss: 0.246175\n",
            "Train Epoch: 1 [48640/60000]\tLoss: 0.302600\n",
            "Train Epoch: 1 [49280/60000]\tLoss: 0.462077\n",
            "Train Epoch: 1 [49920/60000]\tLoss: 0.186956\n",
            "Train Epoch: 1 [50560/60000]\tLoss: 0.214828\n",
            "Train Epoch: 1 [51200/60000]\tLoss: 0.321642\n",
            "Train Epoch: 1 [51840/60000]\tLoss: 0.176475\n",
            "Train Epoch: 1 [52480/60000]\tLoss: 0.282655\n",
            "Train Epoch: 1 [53120/60000]\tLoss: 0.293955\n",
            "Train Epoch: 1 [53760/60000]\tLoss: 0.212533\n",
            "Train Epoch: 1 [54400/60000]\tLoss: 0.403252\n",
            "Train Epoch: 1 [55040/60000]\tLoss: 0.386115\n",
            "Train Epoch: 1 [55680/60000]\tLoss: 0.178906\n",
            "Train Epoch: 1 [56320/60000]\tLoss: 0.487419\n",
            "Train Epoch: 1 [56960/60000]\tLoss: 0.425872\n",
            "Train Epoch: 1 [57600/60000]\tLoss: 0.311116\n",
            "Train Epoch: 1 [58240/60000]\tLoss: 0.359567\n",
            "Train Epoch: 1 [58880/60000]\tLoss: 0.180032\n",
            "Train Epoch: 1 [59520/60000]\tLoss: 0.199831\n",
            "\n",
            "Test set: Avg. loss: 0.1509, Accuracy: 9526/10000 (95%)\n",
            "\n",
            "Train Epoch: 2 [0/60000]\tLoss: 0.164271\n",
            "Train Epoch: 2 [640/60000]\tLoss: 0.245363\n",
            "Train Epoch: 2 [1280/60000]\tLoss: 0.227116\n",
            "Train Epoch: 2 [1920/60000]\tLoss: 0.264539\n",
            "Train Epoch: 2 [2560/60000]\tLoss: 0.160949\n",
            "Train Epoch: 2 [3200/60000]\tLoss: 0.114498\n",
            "Train Epoch: 2 [3840/60000]\tLoss: 0.365578\n",
            "Train Epoch: 2 [4480/60000]\tLoss: 0.291454\n",
            "Train Epoch: 2 [5120/60000]\tLoss: 0.196822\n",
            "Train Epoch: 2 [5760/60000]\tLoss: 0.195864\n",
            "Train Epoch: 2 [6400/60000]\tLoss: 0.080271\n",
            "Train Epoch: 2 [7040/60000]\tLoss: 0.257122\n",
            "Train Epoch: 2 [7680/60000]\tLoss: 0.503764\n",
            "Train Epoch: 2 [8320/60000]\tLoss: 0.236163\n",
            "Train Epoch: 2 [8960/60000]\tLoss: 0.281227\n",
            "Train Epoch: 2 [9600/60000]\tLoss: 0.326134\n",
            "Train Epoch: 2 [10240/60000]\tLoss: 0.236181\n",
            "Train Epoch: 2 [10880/60000]\tLoss: 0.398011\n",
            "Train Epoch: 2 [11520/60000]\tLoss: 0.305376\n",
            "Train Epoch: 2 [12160/60000]\tLoss: 0.204359\n",
            "Train Epoch: 2 [12800/60000]\tLoss: 0.137504\n",
            "Train Epoch: 2 [13440/60000]\tLoss: 0.244854\n",
            "Train Epoch: 2 [14080/60000]\tLoss: 0.232688\n",
            "Train Epoch: 2 [14720/60000]\tLoss: 0.352672\n",
            "Train Epoch: 2 [15360/60000]\tLoss: 0.258075\n",
            "Train Epoch: 2 [16000/60000]\tLoss: 0.361789\n",
            "Train Epoch: 2 [16640/60000]\tLoss: 0.255413\n",
            "Train Epoch: 2 [17280/60000]\tLoss: 0.191407\n",
            "Train Epoch: 2 [17920/60000]\tLoss: 0.071702\n",
            "Train Epoch: 2 [18560/60000]\tLoss: 0.273272\n",
            "Train Epoch: 2 [19200/60000]\tLoss: 0.272611\n",
            "Train Epoch: 2 [19840/60000]\tLoss: 0.200754\n",
            "Train Epoch: 2 [20480/60000]\tLoss: 0.342165\n",
            "Train Epoch: 2 [21120/60000]\tLoss: 0.268735\n",
            "Train Epoch: 2 [21760/60000]\tLoss: 0.196290\n",
            "Train Epoch: 2 [22400/60000]\tLoss: 0.153592\n",
            "Train Epoch: 2 [23040/60000]\tLoss: 0.154500\n",
            "Train Epoch: 2 [23680/60000]\tLoss: 0.176258\n",
            "Train Epoch: 2 [24320/60000]\tLoss: 0.323921\n",
            "Train Epoch: 2 [24960/60000]\tLoss: 0.302560\n",
            "Train Epoch: 2 [25600/60000]\tLoss: 0.141568\n",
            "Train Epoch: 2 [26240/60000]\tLoss: 0.251904\n",
            "Train Epoch: 2 [26880/60000]\tLoss: 0.249697\n",
            "Train Epoch: 2 [27520/60000]\tLoss: 0.164367\n",
            "Train Epoch: 2 [28160/60000]\tLoss: 0.112054\n",
            "Train Epoch: 2 [28800/60000]\tLoss: 0.176325\n",
            "Train Epoch: 2 [29440/60000]\tLoss: 0.425241\n",
            "Train Epoch: 2 [30080/60000]\tLoss: 0.273314\n",
            "Train Epoch: 2 [30720/60000]\tLoss: 0.213735\n",
            "Train Epoch: 2 [31360/60000]\tLoss: 0.275328\n",
            "Train Epoch: 2 [32000/60000]\tLoss: 0.096018\n",
            "Train Epoch: 2 [32640/60000]\tLoss: 0.284763\n",
            "Train Epoch: 2 [33280/60000]\tLoss: 0.161020\n",
            "Train Epoch: 2 [33920/60000]\tLoss: 0.246575\n",
            "Train Epoch: 2 [34560/60000]\tLoss: 0.287946\n",
            "Train Epoch: 2 [35200/60000]\tLoss: 0.121603\n",
            "Train Epoch: 2 [35840/60000]\tLoss: 0.243107\n",
            "Train Epoch: 2 [36480/60000]\tLoss: 0.349474\n",
            "Train Epoch: 2 [37120/60000]\tLoss: 0.067834\n",
            "Train Epoch: 2 [37760/60000]\tLoss: 0.088346\n",
            "Train Epoch: 2 [38400/60000]\tLoss: 0.178817\n",
            "Train Epoch: 2 [39040/60000]\tLoss: 0.266948\n",
            "Train Epoch: 2 [39680/60000]\tLoss: 0.211446\n",
            "Train Epoch: 2 [40320/60000]\tLoss: 0.210232\n",
            "Train Epoch: 2 [40960/60000]\tLoss: 0.318226\n",
            "Train Epoch: 2 [41600/60000]\tLoss: 0.217982\n",
            "Train Epoch: 2 [42240/60000]\tLoss: 0.119867\n",
            "Train Epoch: 2 [42880/60000]\tLoss: 0.157356\n",
            "Train Epoch: 2 [43520/60000]\tLoss: 0.281649\n",
            "Train Epoch: 2 [44160/60000]\tLoss: 0.198899\n",
            "Train Epoch: 2 [44800/60000]\tLoss: 0.190648\n",
            "Train Epoch: 2 [45440/60000]\tLoss: 0.411380\n",
            "Train Epoch: 2 [46080/60000]\tLoss: 0.203866\n",
            "Train Epoch: 2 [46720/60000]\tLoss: 0.168121\n",
            "Train Epoch: 2 [47360/60000]\tLoss: 0.121965\n",
            "Train Epoch: 2 [48000/60000]\tLoss: 0.145912\n",
            "Train Epoch: 2 [48640/60000]\tLoss: 0.144632\n",
            "Train Epoch: 2 [49280/60000]\tLoss: 0.161714\n",
            "Train Epoch: 2 [49920/60000]\tLoss: 0.213137\n",
            "Train Epoch: 2 [50560/60000]\tLoss: 0.205649\n",
            "Train Epoch: 2 [51200/60000]\tLoss: 0.457574\n",
            "Train Epoch: 2 [51840/60000]\tLoss: 0.097566\n",
            "Train Epoch: 2 [52480/60000]\tLoss: 0.195566\n",
            "Train Epoch: 2 [53120/60000]\tLoss: 0.135643\n",
            "Train Epoch: 2 [53760/60000]\tLoss: 0.056400\n",
            "Train Epoch: 2 [54400/60000]\tLoss: 0.218940\n",
            "Train Epoch: 2 [55040/60000]\tLoss: 0.228983\n",
            "Train Epoch: 2 [55680/60000]\tLoss: 0.326218\n",
            "Train Epoch: 2 [56320/60000]\tLoss: 0.267709\n",
            "Train Epoch: 2 [56960/60000]\tLoss: 0.174465\n",
            "Train Epoch: 2 [57600/60000]\tLoss: 0.065850\n",
            "Train Epoch: 2 [58240/60000]\tLoss: 0.170298\n",
            "Train Epoch: 2 [58880/60000]\tLoss: 0.302598\n",
            "Train Epoch: 2 [59520/60000]\tLoss: 0.166298\n",
            "\n",
            "Test set: Avg. loss: 0.1106, Accuracy: 9635/10000 (96%)\n",
            "\n",
            "Train Epoch: 3 [0/60000]\tLoss: 0.304761\n",
            "Train Epoch: 3 [640/60000]\tLoss: 0.193253\n",
            "Train Epoch: 3 [1280/60000]\tLoss: 0.144072\n",
            "Train Epoch: 3 [1920/60000]\tLoss: 0.097221\n",
            "Train Epoch: 3 [2560/60000]\tLoss: 0.137564\n",
            "Train Epoch: 3 [3200/60000]\tLoss: 0.171360\n",
            "Train Epoch: 3 [3840/60000]\tLoss: 0.069676\n",
            "Train Epoch: 3 [4480/60000]\tLoss: 0.142809\n",
            "Train Epoch: 3 [5120/60000]\tLoss: 0.317462\n",
            "Train Epoch: 3 [5760/60000]\tLoss: 0.225768\n",
            "Train Epoch: 3 [6400/60000]\tLoss: 0.132720\n",
            "Train Epoch: 3 [7040/60000]\tLoss: 0.270486\n",
            "Train Epoch: 3 [7680/60000]\tLoss: 0.086554\n",
            "Train Epoch: 3 [8320/60000]\tLoss: 0.054492\n",
            "Train Epoch: 3 [8960/60000]\tLoss: 0.266167\n",
            "Train Epoch: 3 [9600/60000]\tLoss: 0.163687\n",
            "Train Epoch: 3 [10240/60000]\tLoss: 0.275512\n",
            "Train Epoch: 3 [10880/60000]\tLoss: 0.283877\n",
            "Train Epoch: 3 [11520/60000]\tLoss: 0.170338\n",
            "Train Epoch: 3 [12160/60000]\tLoss: 0.213125\n",
            "Train Epoch: 3 [12800/60000]\tLoss: 0.357628\n",
            "Train Epoch: 3 [13440/60000]\tLoss: 0.309186\n",
            "Train Epoch: 3 [14080/60000]\tLoss: 0.453498\n",
            "Train Epoch: 3 [14720/60000]\tLoss: 0.203314\n",
            "Train Epoch: 3 [15360/60000]\tLoss: 0.146347\n",
            "Train Epoch: 3 [16000/60000]\tLoss: 0.220678\n",
            "Train Epoch: 3 [16640/60000]\tLoss: 0.175884\n",
            "Train Epoch: 3 [17280/60000]\tLoss: 0.126079\n",
            "Train Epoch: 3 [17920/60000]\tLoss: 0.285092\n",
            "Train Epoch: 3 [18560/60000]\tLoss: 0.158293\n",
            "Train Epoch: 3 [19200/60000]\tLoss: 0.098503\n",
            "Train Epoch: 3 [19840/60000]\tLoss: 0.287588\n",
            "Train Epoch: 3 [20480/60000]\tLoss: 0.194653\n",
            "Train Epoch: 3 [21120/60000]\tLoss: 0.030377\n",
            "Train Epoch: 3 [21760/60000]\tLoss: 0.065280\n",
            "Train Epoch: 3 [22400/60000]\tLoss: 0.161802\n",
            "Train Epoch: 3 [23040/60000]\tLoss: 0.177964\n",
            "Train Epoch: 3 [23680/60000]\tLoss: 0.168743\n",
            "Train Epoch: 3 [24320/60000]\tLoss: 0.093040\n",
            "Train Epoch: 3 [24960/60000]\tLoss: 0.368573\n",
            "Train Epoch: 3 [25600/60000]\tLoss: 0.410250\n",
            "Train Epoch: 3 [26240/60000]\tLoss: 0.092372\n",
            "Train Epoch: 3 [26880/60000]\tLoss: 0.136266\n",
            "Train Epoch: 3 [27520/60000]\tLoss: 0.375280\n",
            "Train Epoch: 3 [28160/60000]\tLoss: 0.061740\n",
            "Train Epoch: 3 [28800/60000]\tLoss: 0.223907\n",
            "Train Epoch: 3 [29440/60000]\tLoss: 0.215908\n",
            "Train Epoch: 3 [30080/60000]\tLoss: 0.298038\n",
            "Train Epoch: 3 [30720/60000]\tLoss: 0.085908\n",
            "Train Epoch: 3 [31360/60000]\tLoss: 0.138989\n",
            "Train Epoch: 3 [32000/60000]\tLoss: 0.161571\n",
            "Train Epoch: 3 [32640/60000]\tLoss: 0.200094\n",
            "Train Epoch: 3 [33280/60000]\tLoss: 0.189699\n",
            "Train Epoch: 3 [33920/60000]\tLoss: 0.135398\n",
            "Train Epoch: 3 [34560/60000]\tLoss: 0.291955\n",
            "Train Epoch: 3 [35200/60000]\tLoss: 0.236478\n",
            "Train Epoch: 3 [35840/60000]\tLoss: 0.089907\n",
            "Train Epoch: 3 [36480/60000]\tLoss: 0.068885\n",
            "Train Epoch: 3 [37120/60000]\tLoss: 0.298311\n",
            "Train Epoch: 3 [37760/60000]\tLoss: 0.055295\n",
            "Train Epoch: 3 [38400/60000]\tLoss: 0.100013\n",
            "Train Epoch: 3 [39040/60000]\tLoss: 0.186302\n",
            "Train Epoch: 3 [39680/60000]\tLoss: 0.227866\n",
            "Train Epoch: 3 [40320/60000]\tLoss: 0.098898\n",
            "Train Epoch: 3 [40960/60000]\tLoss: 0.296534\n",
            "Train Epoch: 3 [41600/60000]\tLoss: 0.121120\n",
            "Train Epoch: 3 [42240/60000]\tLoss: 0.227065\n",
            "Train Epoch: 3 [42880/60000]\tLoss: 0.248456\n",
            "Train Epoch: 3 [43520/60000]\tLoss: 0.355677\n",
            "Train Epoch: 3 [44160/60000]\tLoss: 0.116848\n",
            "Train Epoch: 3 [44800/60000]\tLoss: 0.204588\n",
            "Train Epoch: 3 [45440/60000]\tLoss: 0.108705\n",
            "Train Epoch: 3 [46080/60000]\tLoss: 0.145271\n",
            "Train Epoch: 3 [46720/60000]\tLoss: 0.146500\n",
            "Train Epoch: 3 [47360/60000]\tLoss: 0.323011\n",
            "Train Epoch: 3 [48000/60000]\tLoss: 0.119764\n",
            "Train Epoch: 3 [48640/60000]\tLoss: 0.258751\n",
            "Train Epoch: 3 [49280/60000]\tLoss: 0.120109\n",
            "Train Epoch: 3 [49920/60000]\tLoss: 0.209031\n",
            "Train Epoch: 3 [50560/60000]\tLoss: 0.089843\n",
            "Train Epoch: 3 [51200/60000]\tLoss: 0.088808\n",
            "Train Epoch: 3 [51840/60000]\tLoss: 0.268394\n",
            "Train Epoch: 3 [52480/60000]\tLoss: 0.070425\n",
            "Train Epoch: 3 [53120/60000]\tLoss: 0.030217\n",
            "Train Epoch: 3 [53760/60000]\tLoss: 0.234447\n",
            "Train Epoch: 3 [54400/60000]\tLoss: 0.186810\n",
            "Train Epoch: 3 [55040/60000]\tLoss: 0.186794\n",
            "Train Epoch: 3 [55680/60000]\tLoss: 0.156948\n",
            "Train Epoch: 3 [56320/60000]\tLoss: 0.221097\n",
            "Train Epoch: 3 [56960/60000]\tLoss: 0.150484\n",
            "Train Epoch: 3 [57600/60000]\tLoss: 0.268927\n",
            "Train Epoch: 3 [58240/60000]\tLoss: 0.155106\n",
            "Train Epoch: 3 [58880/60000]\tLoss: 0.175441\n",
            "Train Epoch: 3 [59520/60000]\tLoss: 0.236915\n",
            "\n",
            "Test set: Avg. loss: 0.0803, Accuracy: 9747/10000 (97%)\n",
            "\n"
          ]
        }
      ],
      "source": [
        "# Get initial performance\n",
        "test()\n",
        "# Train for three epochs\n",
        "n_epochs = 3\n",
        "for epoch in range(1, n_epochs + 1):\n",
        "  train(epoch)\n",
        "  test()"
      ]
    },
    {
      "cell_type": "code",
      "execution_count": 35,
      "metadata": {
        "id": "o7fRUAy9Se1B"
      },
      "outputs": [
        {
          "name": "stderr",
          "output_type": "stream",
          "text": [
            "/tmp/ipykernel_2064/1540275665.py:41: UserWarning: Implicit dimension choice for log_softmax has been deprecated. Change the call to include dim=X as an argument.\n",
            "  x = F.log_softmax(x)\n"
          ]
        },
        {
          "data": {
            "image/png": "[encoded data removed]",
            "text/plain": [
              "<Figure size 640x480 with 10 Axes>"
            ]
          },
          "metadata": {},
          "output_type": "display_data"
        }
      ],
      "source": [
        "# Run network on data we got before and show predictions\n",
        "output = model(example_data)\n",
        "\n",
        "fig = plt.figure()\n",
        "for i in range(10):\n",
        "  plt.subplot(5,5,i+1)\n",
        "  plt.tight_layout()\n",
        "  plt.imshow(example_data[i][0], cmap='gray', interpolation='none')\n",
        "  plt.title(\"Prediction: {}\".format(\n",
        "    output.data.max(1, keepdim=True)[1][i].item()))\n",
        "  plt.xticks([])\n",
        "  plt.yticks([])\n",
        "plt.show()"
      ]
    },
    {
      "cell_type": "code",
      "execution_count": null,
      "metadata": {},
      "outputs": [],
      "source": []
    }
  ],
  "metadata": {
    "colab": {
      "authorship_tag": "ABX9TyNAcc98STMeyQgh9SbVHWG+",
      "include_colab_link": true,
      "provenance": []
    },
    "kernelspec": {
      "display_name": "Python 3",
      "name": "python3"
    },
    "language_info": {
      "codemirror_mode": {
        "name": "ipython",
        "version": 3
      },
      "file_extension": ".py",
      "mimetype": "text/x-python",
      "name": "python",
      "nbconvert_exporter": "python",
      "pygments_lexer": "ipython3",
      "version": "3.10.12"
    }
  },
  "nbformat": 4,
  "nbformat_minor": 0
}
