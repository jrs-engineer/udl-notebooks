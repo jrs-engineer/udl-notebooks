{
  "cells": [
    {
      "cell_type": "markdown",
      "metadata": {
        "colab_type": "text",
        "id": "view-in-github"
      },
      "source": [
        "<a href=\"https://colab.research.google.com/github/udlbook/udlbook/blob/main/Notebooks/Chap20/20_4_Adversarial_Attacks.ipynb\" target=\"_parent\"><img src=\"https://colab.research.google.com/assets/colab-badge.svg\" alt=\"Open In Colab\"/></a>"
      ]
    },
    {
      "cell_type": "markdown",
      "metadata": {
        "id": "t9vk9Elugvmi"
      },
      "source": [
        "# **Notebook 20.4: Adversarial attacks**\n",
        "\n",
        "This notebook builds uses the network for classification of MNIST from Notebook 10.5.  The code is adapted from https://nextjournal.com/gkoehler/pytorch-mnist, and uses the fast gradient sign attack of [Goodfellow et al. (2015)](https://arxiv.org/abs/1412.6572).  Having trained, the network, we search for adversarial examples -- inputs which look very similar to class A, but are mistakenly classified as class B.  We do this by starting with a correctly classified example and perturbing it according to the gradients of the network so that the output changes.\n",
        "\n",
        "Work through the cells below, running each cell in turn. In various places you will see the words \"TO DO\". Follow the instructions at these places and make predictions about what is going to happen or write code to complete the functions.\n",
        "\n",
        "Contact me at udlbookmail@gmail.com if you find any mistakes or have any suggestions.\n"
      ]
    },
    {
      "cell_type": "code",
      "execution_count": 1,
      "metadata": {
        "id": "YrXWAH7sUWvU"
      },
      "outputs": [],
      "source": [
        "import torch\n",
        "import torchvision\n",
        "import torch.nn as nn\n",
        "import torch.nn.functional as F\n",
        "import torch.optim as optim\n",
        "import matplotlib.pyplot as plt\n",
        "import random"
      ]
    },
    {
      "cell_type": "code",
      "execution_count": 2,
      "metadata": {
        "id": "wScBGXXFVadm"
      },
      "outputs": [
        {
          "name": "stdout",
          "output_type": "stream",
          "text": [
            "Downloading http://yann.lecun.com/exdb/mnist/train-images-idx3-ubyte.gz\n",
            "Failed to download (trying next):\n",
            "HTTP Error 403: Forbidden\n",
            "\n",
            "Downloading https://ossci-datasets.s3.amazonaws.com/mnist/train-images-idx3-ubyte.gz\n",
            "Downloading https://ossci-datasets.s3.amazonaws.com/mnist/train-images-idx3-ubyte.gz to ./files/MNIST/raw/train-images-idx3-ubyte.gz\n"
          ]
        },
        {
          "name": "stderr",
          "output_type": "stream",
          "text": [
            "100%|██████████| 9912422/9912422 [00:11<00:00, 855268.08it/s] \n"
          ]
        },
        {
          "name": "stdout",
          "output_type": "stream",
          "text": [
            "Extracting ./files/MNIST/raw/train-images-idx3-ubyte.gz to ./files/MNIST/raw\n",
            "\n",
            "Downloading http://yann.lecun.com/exdb/mnist/train-labels-idx1-ubyte.gz\n",
            "Failed to download (trying next):\n",
            "HTTP Error 403: Forbidden\n",
            "\n",
            "Downloading https://ossci-datasets.s3.amazonaws.com/mnist/train-labels-idx1-ubyte.gz\n",
            "Downloading https://ossci-datasets.s3.amazonaws.com/mnist/train-labels-idx1-ubyte.gz to ./files/MNIST/raw/train-labels-idx1-ubyte.gz\n"
          ]
        },
        {
          "name": "stderr",
          "output_type": "stream",
          "text": [
            "100%|██████████| 28881/28881 [00:00<00:00, 55200.81it/s]\n"
          ]
        },
        {
          "name": "stdout",
          "output_type": "stream",
          "text": [
            "Extracting ./files/MNIST/raw/train-labels-idx1-ubyte.gz to ./files/MNIST/raw\n",
            "\n",
            "Downloading http://yann.lecun.com/exdb/mnist/t10k-images-idx3-ubyte.gz\n",
            "Failed to download (trying next):\n",
            "HTTP Error 403: Forbidden\n",
            "\n",
            "Downloading https://ossci-datasets.s3.amazonaws.com/mnist/t10k-images-idx3-ubyte.gz\n",
            "Downloading https://ossci-datasets.s3.amazonaws.com/mnist/t10k-images-idx3-ubyte.gz to ./files/MNIST/raw/t10k-images-idx3-ubyte.gz\n"
          ]
        },
        {
          "name": "stderr",
          "output_type": "stream",
          "text": [
            "100%|██████████| 1648877/1648877 [00:06<00:00, 253872.08it/s]\n"
          ]
        },
        {
          "name": "stdout",
          "output_type": "stream",
          "text": [
            "Extracting ./files/MNIST/raw/t10k-images-idx3-ubyte.gz to ./files/MNIST/raw\n",
            "\n",
            "Downloading http://yann.lecun.com/exdb/mnist/t10k-labels-idx1-ubyte.gz\n",
            "Failed to download (trying next):\n",
            "HTTP Error 403: Forbidden\n",
            "\n",
            "Downloading https://ossci-datasets.s3.amazonaws.com/mnist/t10k-labels-idx1-ubyte.gz\n",
            "Downloading https://ossci-datasets.s3.amazonaws.com/mnist/t10k-labels-idx1-ubyte.gz to ./files/MNIST/raw/t10k-labels-idx1-ubyte.gz\n"
          ]
        },
        {
          "name": "stderr",
          "output_type": "stream",
          "text": [
            "100%|██████████| 4542/4542 [00:00<00:00, 7432902.37it/s]"
          ]
        },
        {
          "name": "stdout",
          "output_type": "stream",
          "text": [
            "Extracting ./files/MNIST/raw/t10k-labels-idx1-ubyte.gz to ./files/MNIST/raw\n",
            "\n"
          ]
        },
        {
          "name": "stderr",
          "output_type": "stream",
          "text": [
            "\n"
          ]
        }
      ],
      "source": [
        "# Run this once to load the train and test data straight into a dataloader class\n",
        "# that will provide the batches\n",
        "batch_size_train = 64\n",
        "batch_size_test = 1000\n",
        "train_loader = torch.utils.data.DataLoader(\n",
        "  torchvision.datasets.MNIST('./files/', train=True, download=True,\n",
        "                             transform=torchvision.transforms.Compose([\n",
        "                               torchvision.transforms.ToTensor(),\n",
        "                               torchvision.transforms.Normalize(\n",
        "                                 (0.1307,), (0.3081,))\n",
        "                             ])),\n",
        "  batch_size=batch_size_train, shuffle=True)\n",
        "\n",
        "test_loader = torch.utils.data.DataLoader(\n",
        "  torchvision.datasets.MNIST('./files/', train=False, download=True,\n",
        "                             transform=torchvision.transforms.Compose([\n",
        "                               torchvision.transforms.ToTensor(),\n",
        "                               torchvision.transforms.Normalize(\n",
        "                                 (0.1307,), (0.3081,))\n",
        "                             ])),\n",
        "  batch_size=batch_size_test, shuffle=True)"
      ]
    },
    {
      "cell_type": "code",
      "execution_count": 3,
      "metadata": {
        "id": "8bKADvLHbiV5"
      },
      "outputs": [
        {
          "data": {
            "image/png": "[encoded data removed]",
            "text/plain": [
              "<Figure size 640x480 with 6 Axes>"
            ]
          },
          "metadata": {},
          "output_type": "display_data"
        }
      ],
      "source": [
        "# Let's draw some of the training data\n",
        "examples = enumerate(test_loader)\n",
        "batch_idx, (example_data, example_targets) = next(examples)\n",
        "\n",
        "fig = plt.figure()\n",
        "for i in range(6):\n",
        "  plt.subplot(2,3,i+1)\n",
        "  plt.tight_layout()\n",
        "  plt.imshow(example_data[i][0], cmap='gray', interpolation='none')\n",
        "  plt.title(\"Ground Truth: {}\".format(example_targets[i]))\n",
        "  plt.xticks([])\n",
        "  plt.yticks([])\n",
        "plt.show()"
      ]
    },
    {
      "cell_type": "markdown",
      "metadata": {
        "id": "_sFvRDGrl4qe"
      },
      "source": [
        "Define the network.  This is a more typical way to define a network than the sequential structure.  We define a class for the network, and define the parameters in the constructor.  Then we use a function called forward to actually run the network.  It's easy to see how you might use residual connections in this format."
      ]
    },
    {
      "cell_type": "code",
      "execution_count": 4,
      "metadata": {
        "id": "EQkvw2KOPVl7"
      },
      "outputs": [],
      "source": [
        "from os import X_OK\n",
        "\n",
        "class Net(nn.Module):\n",
        "    def __init__(self):\n",
        "        super(Net, self).__init__()\n",
        "        self.conv1 = nn.Conv2d(1, 10, kernel_size=5)\n",
        "        self.conv2 = nn.Conv2d(10, 20, kernel_size=5)\n",
        "        self.drop = nn.Dropout2d()\n",
        "        self.fc1 = nn.Linear(320, 50)\n",
        "        self.fc2 = nn.Linear(50, 10)\n",
        "\n",
        "    def forward(self, x):\n",
        "        x = self.conv1(x)\n",
        "        x = F.max_pool2d(x,2)\n",
        "        x = F.relu(x)\n",
        "        x = self.conv2(x)\n",
        "        x = self.drop(x)\n",
        "        x = F.max_pool2d(x,2)\n",
        "        x = F.relu(x)\n",
        "        x = x.flatten(1)\n",
        "        x = F.relu(self.fc1(x))\n",
        "        x = self.fc2(x)\n",
        "        x = F.log_softmax(x)\n",
        "        return x"
      ]
    },
    {
      "cell_type": "code",
      "execution_count": 5,
      "metadata": {
        "id": "qWZtkCZcU_dg"
      },
      "outputs": [],
      "source": [
        "# He initialization of weights\n",
        "def weights_init(layer_in):\n",
        "  if isinstance(layer_in, nn.Linear):\n",
        "    nn.init.kaiming_uniform_(layer_in.weight)\n",
        "    layer_in.bias.data.fill_(0.0)"
      ]
    },
    {
      "cell_type": "code",
      "execution_count": 6,
      "metadata": {
        "id": "FslroPJJffrh"
      },
      "outputs": [],
      "source": [
        "# Create network\n",
        "model = Net()\n",
        "# Initialize model weights\n",
        "model.apply(weights_init)\n",
        "# Define optimizer\n",
        "optimizer = optim.SGD(model.parameters(), lr=0.01, momentum=0.5)"
      ]
    },
    {
      "cell_type": "code",
      "execution_count": 7,
      "metadata": {
        "id": "xKQd9PzkQ766"
      },
      "outputs": [],
      "source": [
        "# Main training routine\n",
        "def train(epoch):\n",
        "  model.train()\n",
        "  # Get each\n",
        "  for batch_idx, (data, target) in enumerate(train_loader):\n",
        "    optimizer.zero_grad()\n",
        "    output = model(data)\n",
        "    loss = F.nll_loss(output, target)\n",
        "    loss.backward()\n",
        "    optimizer.step()\n",
        "    # Store results\n",
        "    if batch_idx % 10 == 0:\n",
        "      print('Train Epoch: {} [{}/{}]\\tLoss: {:.6f}'.format(\n",
        "        epoch, batch_idx * len(data), len(train_loader.dataset), loss.item()))"
      ]
    },
    {
      "cell_type": "code",
      "execution_count": 8,
      "metadata": {
        "id": "Byn-f7qWRLxX"
      },
      "outputs": [],
      "source": [
        "# Run on test data\n",
        "def test():\n",
        "  model.eval()\n",
        "  test_loss = 0\n",
        "  correct = 0\n",
        "  with torch.no_grad():\n",
        "    for data, target in test_loader:\n",
        "      output = model(data)\n",
        "      test_loss += F.nll_loss(output, target, size_average=False).item()\n",
        "      pred = output.data.max(1, keepdim=True)[1]\n",
        "      correct += pred.eq(target.data.view_as(pred)).sum()\n",
        "  test_loss /= len(test_loader.dataset)\n",
        "  print('\\nTest set: Avg. loss: {:.4f}, Accuracy: {}/{} ({:.0f}%)\\n'.format(\n",
        "    test_loss, correct, len(test_loader.dataset),\n",
        "    100. * correct / len(test_loader.dataset)))"
      ]
    },
    {
      "cell_type": "code",
      "execution_count": 9,
      "metadata": {
        "id": "YgLaex1pfhqz"
      },
      "outputs": [
        {
          "name": "stderr",
          "output_type": "stream",
          "text": [
            "/tmp/ipykernel_40831/237405460.py:23: UserWarning: Implicit dimension choice for log_softmax has been deprecated. Change the call to include dim=X as an argument.\n",
            "  x = F.log_softmax(x)\n",
            "/home/cool/.local/lib/python3.10/site-packages/torch/nn/_reduction.py:42: UserWarning: size_average and reduce args will be deprecated, please use reduction='sum' instead.\n",
            "  warnings.warn(warning.format(ret))\n"
          ]
        },
        {
          "name": "stdout",
          "output_type": "stream",
          "text": [
            "\n",
            "Test set: Avg. loss: 2.3534, Accuracy: 659/10000 (7%)\n",
            "\n",
            "Train Epoch: 1 [0/60000]\tLoss: 2.386393\n",
            "Train Epoch: 1 [640/60000]\tLoss: 2.336239\n",
            "Train Epoch: 1 [1280/60000]\tLoss: 2.143371\n",
            "Train Epoch: 1 [1920/60000]\tLoss: 2.080055\n",
            "Train Epoch: 1 [2560/60000]\tLoss: 1.876346\n",
            "Train Epoch: 1 [3200/60000]\tLoss: 1.649455\n",
            "Train Epoch: 1 [3840/60000]\tLoss: 1.554348\n",
            "Train Epoch: 1 [4480/60000]\tLoss: 1.442145\n",
            "Train Epoch: 1 [5120/60000]\tLoss: 1.169888\n",
            "Train Epoch: 1 [5760/60000]\tLoss: 1.029106\n",
            "Train Epoch: 1 [6400/60000]\tLoss: 1.030526\n",
            "Train Epoch: 1 [7040/60000]\tLoss: 1.156129\n",
            "Train Epoch: 1 [7680/60000]\tLoss: 0.713237\n",
            "Train Epoch: 1 [8320/60000]\tLoss: 0.778997\n",
            "Train Epoch: 1 [8960/60000]\tLoss: 0.705197\n",
            "Train Epoch: 1 [9600/60000]\tLoss: 0.575576\n",
            "Train Epoch: 1 [10240/60000]\tLoss: 0.647159\n",
            "Train Epoch: 1 [10880/60000]\tLoss: 0.604720\n",
            "Train Epoch: 1 [11520/60000]\tLoss: 0.602819\n",
            "Train Epoch: 1 [12160/60000]\tLoss: 0.650148\n",
            "Train Epoch: 1 [12800/60000]\tLoss: 0.631517\n",
            "Train Epoch: 1 [13440/60000]\tLoss: 0.705878\n",
            "Train Epoch: 1 [14080/60000]\tLoss: 0.758699\n",
            "Train Epoch: 1 [14720/60000]\tLoss: 0.477741\n",
            "Train Epoch: 1 [15360/60000]\tLoss: 0.362428\n",
            "Train Epoch: 1 [16000/60000]\tLoss: 0.549674\n",
            "Train Epoch: 1 [16640/60000]\tLoss: 0.412186\n",
            "Train Epoch: 1 [17280/60000]\tLoss: 0.670860\n",
            "Train Epoch: 1 [17920/60000]\tLoss: 0.541031\n",
            "Train Epoch: 1 [18560/60000]\tLoss: 0.483567\n",
            "Train Epoch: 1 [19200/60000]\tLoss: 0.528782\n",
            "Train Epoch: 1 [19840/60000]\tLoss: 0.517452\n",
            "Train Epoch: 1 [20480/60000]\tLoss: 0.322390\n",
            "Train Epoch: 1 [21120/60000]\tLoss: 0.474998\n",
            "Train Epoch: 1 [21760/60000]\tLoss: 0.341003\n",
            "Train Epoch: 1 [22400/60000]\tLoss: 0.379451\n",
            "Train Epoch: 1 [23040/60000]\tLoss: 0.424615\n",
            "Train Epoch: 1 [23680/60000]\tLoss: 0.547198\n",
            "Train Epoch: 1 [24320/60000]\tLoss: 0.392762\n",
            "Train Epoch: 1 [24960/60000]\tLoss: 0.240468\n",
            "Train Epoch: 1 [25600/60000]\tLoss: 0.431473\n",
            "Train Epoch: 1 [26240/60000]\tLoss: 0.424577\n",
            "Train Epoch: 1 [26880/60000]\tLoss: 0.534260\n",
            "Train Epoch: 1 [27520/60000]\tLoss: 0.332807\n",
            "Train Epoch: 1 [28160/60000]\tLoss: 0.488720\n",
            "Train Epoch: 1 [28800/60000]\tLoss: 0.405868\n",
            "Train Epoch: 1 [29440/60000]\tLoss: 0.496948\n",
            "Train Epoch: 1 [30080/60000]\tLoss: 0.356004\n",
            "Train Epoch: 1 [30720/60000]\tLoss: 0.342719\n",
            "Train Epoch: 1 [31360/60000]\tLoss: 0.283594\n",
            "Train Epoch: 1 [32000/60000]\tLoss: 0.387116\n",
            "Train Epoch: 1 [32640/60000]\tLoss: 0.293373\n",
            "Train Epoch: 1 [33280/60000]\tLoss: 0.614203\n",
            "Train Epoch: 1 [33920/60000]\tLoss: 0.335603\n",
            "Train Epoch: 1 [34560/60000]\tLoss: 0.467106\n",
            "Train Epoch: 1 [35200/60000]\tLoss: 0.365885\n",
            "Train Epoch: 1 [35840/60000]\tLoss: 0.295636\n",
            "Train Epoch: 1 [36480/60000]\tLoss: 0.182707\n",
            "Train Epoch: 1 [37120/60000]\tLoss: 0.220099\n",
            "Train Epoch: 1 [37760/60000]\tLoss: 0.364284\n",
            "Train Epoch: 1 [38400/60000]\tLoss: 0.365458\n",
            "Train Epoch: 1 [39040/60000]\tLoss: 0.297118\n",
            "Train Epoch: 1 [39680/60000]\tLoss: 0.200641\n",
            "Train Epoch: 1 [40320/60000]\tLoss: 0.229967\n",
            "Train Epoch: 1 [40960/60000]\tLoss: 0.262968\n",
            "Train Epoch: 1 [41600/60000]\tLoss: 0.280884\n",
            "Train Epoch: 1 [42240/60000]\tLoss: 0.300499\n",
            "Train Epoch: 1 [42880/60000]\tLoss: 0.428784\n",
            "Train Epoch: 1 [43520/60000]\tLoss: 0.302967\n",
            "Train Epoch: 1 [44160/60000]\tLoss: 0.243555\n",
            "Train Epoch: 1 [44800/60000]\tLoss: 0.267056\n",
            "Train Epoch: 1 [45440/60000]\tLoss: 0.495381\n",
            "Train Epoch: 1 [46080/60000]\tLoss: 0.482723\n",
            "Train Epoch: 1 [46720/60000]\tLoss: 0.192276\n",
            "Train Epoch: 1 [47360/60000]\tLoss: 0.300043\n",
            "Train Epoch: 1 [48000/60000]\tLoss: 0.247104\n",
            "Train Epoch: 1 [48640/60000]\tLoss: 0.317264\n",
            "Train Epoch: 1 [49280/60000]\tLoss: 0.217028\n",
            "Train Epoch: 1 [49920/60000]\tLoss: 0.237273\n",
            "Train Epoch: 1 [50560/60000]\tLoss: 0.465390\n",
            "Train Epoch: 1 [51200/60000]\tLoss: 0.318483\n",
            "Train Epoch: 1 [51840/60000]\tLoss: 0.245626\n",
            "Train Epoch: 1 [52480/60000]\tLoss: 0.196246\n",
            "Train Epoch: 1 [53120/60000]\tLoss: 0.191839\n",
            "Train Epoch: 1 [53760/60000]\tLoss: 0.462124\n",
            "Train Epoch: 1 [54400/60000]\tLoss: 0.096647\n",
            "Train Epoch: 1 [55040/60000]\tLoss: 0.290459\n",
            "Train Epoch: 1 [55680/60000]\tLoss: 0.126834\n",
            "Train Epoch: 1 [56320/60000]\tLoss: 0.249666\n",
            "Train Epoch: 1 [56960/60000]\tLoss: 0.136142\n",
            "Train Epoch: 1 [57600/60000]\tLoss: 0.359752\n",
            "Train Epoch: 1 [58240/60000]\tLoss: 0.195949\n",
            "Train Epoch: 1 [58880/60000]\tLoss: 0.124078\n",
            "Train Epoch: 1 [59520/60000]\tLoss: 0.158000\n",
            "\n",
            "Test set: Avg. loss: 0.1319, Accuracy: 9605/10000 (96%)\n",
            "\n",
            "Train Epoch: 2 [0/60000]\tLoss: 0.173787\n",
            "Train Epoch: 2 [640/60000]\tLoss: 0.338464\n",
            "Train Epoch: 2 [1280/60000]\tLoss: 0.237467\n",
            "Train Epoch: 2 [1920/60000]\tLoss: 0.176584\n",
            "Train Epoch: 2 [2560/60000]\tLoss: 0.210410\n",
            "Train Epoch: 2 [3200/60000]\tLoss: 0.223241\n",
            "Train Epoch: 2 [3840/60000]\tLoss: 0.092093\n",
            "Train Epoch: 2 [4480/60000]\tLoss: 0.226795\n",
            "Train Epoch: 2 [5120/60000]\tLoss: 0.381142\n",
            "Train Epoch: 2 [5760/60000]\tLoss: 0.282310\n",
            "Train Epoch: 2 [6400/60000]\tLoss: 0.560774\n",
            "Train Epoch: 2 [7040/60000]\tLoss: 0.237528\n",
            "Train Epoch: 2 [7680/60000]\tLoss: 0.437563\n",
            "Train Epoch: 2 [8320/60000]\tLoss: 0.152993\n",
            "Train Epoch: 2 [8960/60000]\tLoss: 0.354456\n",
            "Train Epoch: 2 [9600/60000]\tLoss: 0.218475\n",
            "Train Epoch: 2 [10240/60000]\tLoss: 0.211175\n",
            "Train Epoch: 2 [10880/60000]\tLoss: 0.172273\n",
            "Train Epoch: 2 [11520/60000]\tLoss: 0.094860\n",
            "Train Epoch: 2 [12160/60000]\tLoss: 0.272525\n",
            "Train Epoch: 2 [12800/60000]\tLoss: 0.183189\n",
            "Train Epoch: 2 [13440/60000]\tLoss: 0.090906\n",
            "Train Epoch: 2 [14080/60000]\tLoss: 0.174588\n",
            "Train Epoch: 2 [14720/60000]\tLoss: 0.251519\n",
            "Train Epoch: 2 [15360/60000]\tLoss: 0.181748\n",
            "Train Epoch: 2 [16000/60000]\tLoss: 0.266498\n",
            "Train Epoch: 2 [16640/60000]\tLoss: 0.312635\n",
            "Train Epoch: 2 [17280/60000]\tLoss: 0.203757\n",
            "Train Epoch: 2 [17920/60000]\tLoss: 0.180139\n",
            "Train Epoch: 2 [18560/60000]\tLoss: 0.407994\n",
            "Train Epoch: 2 [19200/60000]\tLoss: 0.385931\n",
            "Train Epoch: 2 [19840/60000]\tLoss: 0.405456\n",
            "Train Epoch: 2 [20480/60000]\tLoss: 0.192891\n",
            "Train Epoch: 2 [21120/60000]\tLoss: 0.135282\n",
            "Train Epoch: 2 [21760/60000]\tLoss: 0.181748\n",
            "Train Epoch: 2 [22400/60000]\tLoss: 0.083856\n",
            "Train Epoch: 2 [23040/60000]\tLoss: 0.139315\n",
            "Train Epoch: 2 [23680/60000]\tLoss: 0.291498\n",
            "Train Epoch: 2 [24320/60000]\tLoss: 0.213108\n",
            "Train Epoch: 2 [24960/60000]\tLoss: 0.290868\n",
            "Train Epoch: 2 [25600/60000]\tLoss: 0.115361\n",
            "Train Epoch: 2 [26240/60000]\tLoss: 0.197888\n",
            "Train Epoch: 2 [26880/60000]\tLoss: 0.496300\n",
            "Train Epoch: 2 [27520/60000]\tLoss: 0.075118\n",
            "Train Epoch: 2 [28160/60000]\tLoss: 0.176062\n",
            "Train Epoch: 2 [28800/60000]\tLoss: 0.111684\n",
            "Train Epoch: 2 [29440/60000]\tLoss: 0.642541\n",
            "Train Epoch: 2 [30080/60000]\tLoss: 0.126114\n",
            "Train Epoch: 2 [30720/60000]\tLoss: 0.264243\n",
            "Train Epoch: 2 [31360/60000]\tLoss: 0.243342\n",
            "Train Epoch: 2 [32000/60000]\tLoss: 0.090001\n",
            "Train Epoch: 2 [32640/60000]\tLoss: 0.191864\n",
            "Train Epoch: 2 [33280/60000]\tLoss: 0.168945\n",
            "Train Epoch: 2 [33920/60000]\tLoss: 0.245493\n",
            "Train Epoch: 2 [34560/60000]\tLoss: 0.362115\n",
            "Train Epoch: 2 [35200/60000]\tLoss: 0.188301\n",
            "Train Epoch: 2 [35840/60000]\tLoss: 0.221468\n",
            "Train Epoch: 2 [36480/60000]\tLoss: 0.192324\n",
            "Train Epoch: 2 [37120/60000]\tLoss: 0.143564\n",
            "Train Epoch: 2 [37760/60000]\tLoss: 0.297908\n",
            "Train Epoch: 2 [38400/60000]\tLoss: 0.209731\n",
            "Train Epoch: 2 [39040/60000]\tLoss: 0.239849\n",
            "Train Epoch: 2 [39680/60000]\tLoss: 0.186573\n",
            "Train Epoch: 2 [40320/60000]\tLoss: 0.093660\n",
            "Train Epoch: 2 [40960/60000]\tLoss: 0.071346\n",
            "Train Epoch: 2 [41600/60000]\tLoss: 0.131252\n",
            "Train Epoch: 2 [42240/60000]\tLoss: 0.246472\n",
            "Train Epoch: 2 [42880/60000]\tLoss: 0.522224\n",
            "Train Epoch: 2 [43520/60000]\tLoss: 0.150441\n",
            "Train Epoch: 2 [44160/60000]\tLoss: 0.313753\n",
            "Train Epoch: 2 [44800/60000]\tLoss: 0.279381\n",
            "Train Epoch: 2 [45440/60000]\tLoss: 0.139857\n",
            "Train Epoch: 2 [46080/60000]\tLoss: 0.483766\n",
            "Train Epoch: 2 [46720/60000]\tLoss: 0.231868\n",
            "Train Epoch: 2 [47360/60000]\tLoss: 0.121022\n",
            "Train Epoch: 2 [48000/60000]\tLoss: 0.374154\n",
            "Train Epoch: 2 [48640/60000]\tLoss: 0.111474\n",
            "Train Epoch: 2 [49280/60000]\tLoss: 0.102297\n",
            "Train Epoch: 2 [49920/60000]\tLoss: 0.118094\n",
            "Train Epoch: 2 [50560/60000]\tLoss: 0.131610\n",
            "Train Epoch: 2 [51200/60000]\tLoss: 0.112476\n",
            "Train Epoch: 2 [51840/60000]\tLoss: 0.468185\n",
            "Train Epoch: 2 [52480/60000]\tLoss: 0.441147\n",
            "Train Epoch: 2 [53120/60000]\tLoss: 0.295629\n",
            "Train Epoch: 2 [53760/60000]\tLoss: 0.220340\n",
            "Train Epoch: 2 [54400/60000]\tLoss: 0.238786\n",
            "Train Epoch: 2 [55040/60000]\tLoss: 0.361122\n",
            "Train Epoch: 2 [55680/60000]\tLoss: 0.187939\n",
            "Train Epoch: 2 [56320/60000]\tLoss: 0.229034\n",
            "Train Epoch: 2 [56960/60000]\tLoss: 0.214652\n",
            "Train Epoch: 2 [57600/60000]\tLoss: 0.155550\n",
            "Train Epoch: 2 [58240/60000]\tLoss: 0.169383\n",
            "Train Epoch: 2 [58880/60000]\tLoss: 0.054480\n",
            "Train Epoch: 2 [59520/60000]\tLoss: 0.205196\n",
            "\n",
            "Test set: Avg. loss: 0.0868, Accuracy: 9718/10000 (97%)\n",
            "\n",
            "Train Epoch: 3 [0/60000]\tLoss: 0.077716\n",
            "Train Epoch: 3 [640/60000]\tLoss: 0.258842\n",
            "Train Epoch: 3 [1280/60000]\tLoss: 0.212144\n",
            "Train Epoch: 3 [1920/60000]\tLoss: 0.161683\n",
            "Train Epoch: 3 [2560/60000]\tLoss: 0.274689\n",
            "Train Epoch: 3 [3200/60000]\tLoss: 0.146759\n",
            "Train Epoch: 3 [3840/60000]\tLoss: 0.093111\n",
            "Train Epoch: 3 [4480/60000]\tLoss: 0.268203\n",
            "Train Epoch: 3 [5120/60000]\tLoss: 0.114146\n",
            "Train Epoch: 3 [5760/60000]\tLoss: 0.148148\n",
            "Train Epoch: 3 [6400/60000]\tLoss: 0.133144\n",
            "Train Epoch: 3 [7040/60000]\tLoss: 0.066890\n",
            "Train Epoch: 3 [7680/60000]\tLoss: 0.069148\n",
            "Train Epoch: 3 [8320/60000]\tLoss: 0.211443\n",
            "Train Epoch: 3 [8960/60000]\tLoss: 0.421670\n",
            "Train Epoch: 3 [9600/60000]\tLoss: 0.047260\n",
            "Train Epoch: 3 [10240/60000]\tLoss: 0.100606\n",
            "Train Epoch: 3 [10880/60000]\tLoss: 0.154454\n",
            "Train Epoch: 3 [11520/60000]\tLoss: 0.112439\n",
            "Train Epoch: 3 [12160/60000]\tLoss: 0.316028\n",
            "Train Epoch: 3 [12800/60000]\tLoss: 0.280867\n",
            "Train Epoch: 3 [13440/60000]\tLoss: 0.139321\n",
            "Train Epoch: 3 [14080/60000]\tLoss: 0.136033\n",
            "Train Epoch: 3 [14720/60000]\tLoss: 0.209060\n",
            "Train Epoch: 3 [15360/60000]\tLoss: 0.307716\n",
            "Train Epoch: 3 [16000/60000]\tLoss: 0.073659\n",
            "Train Epoch: 3 [16640/60000]\tLoss: 0.302221\n",
            "Train Epoch: 3 [17280/60000]\tLoss: 0.113906\n",
            "Train Epoch: 3 [17920/60000]\tLoss: 0.251678\n",
            "Train Epoch: 3 [18560/60000]\tLoss: 0.065222\n",
            "Train Epoch: 3 [19200/60000]\tLoss: 0.161012\n",
            "Train Epoch: 3 [19840/60000]\tLoss: 0.081607\n",
            "Train Epoch: 3 [20480/60000]\tLoss: 0.206200\n",
            "Train Epoch: 3 [21120/60000]\tLoss: 0.160993\n",
            "Train Epoch: 3 [21760/60000]\tLoss: 0.122707\n",
            "Train Epoch: 3 [22400/60000]\tLoss: 0.097366\n",
            "Train Epoch: 3 [23040/60000]\tLoss: 0.166526\n",
            "Train Epoch: 3 [23680/60000]\tLoss: 0.171797\n",
            "Train Epoch: 3 [24320/60000]\tLoss: 0.072175\n",
            "Train Epoch: 3 [24960/60000]\tLoss: 0.118565\n",
            "Train Epoch: 3 [25600/60000]\tLoss: 0.132086\n",
            "Train Epoch: 3 [26240/60000]\tLoss: 0.078195\n",
            "Train Epoch: 3 [26880/60000]\tLoss: 0.120692\n",
            "Train Epoch: 3 [27520/60000]\tLoss: 0.221655\n",
            "Train Epoch: 3 [28160/60000]\tLoss: 0.357829\n",
            "Train Epoch: 3 [28800/60000]\tLoss: 0.216383\n",
            "Train Epoch: 3 [29440/60000]\tLoss: 0.189775\n",
            "Train Epoch: 3 [30080/60000]\tLoss: 0.129313\n",
            "Train Epoch: 3 [30720/60000]\tLoss: 0.188909\n",
            "Train Epoch: 3 [31360/60000]\tLoss: 0.046081\n",
            "Train Epoch: 3 [32000/60000]\tLoss: 0.145254\n",
            "Train Epoch: 3 [32640/60000]\tLoss: 0.187169\n",
            "Train Epoch: 3 [33280/60000]\tLoss: 0.146512\n",
            "Train Epoch: 3 [33920/60000]\tLoss: 0.098492\n",
            "Train Epoch: 3 [34560/60000]\tLoss: 0.162370\n",
            "Train Epoch: 3 [35200/60000]\tLoss: 0.187967\n",
            "Train Epoch: 3 [35840/60000]\tLoss: 0.047279\n",
            "Train Epoch: 3 [36480/60000]\tLoss: 0.173492\n",
            "Train Epoch: 3 [37120/60000]\tLoss: 0.209759\n",
            "Train Epoch: 3 [37760/60000]\tLoss: 0.182945\n",
            "Train Epoch: 3 [38400/60000]\tLoss: 0.174967\n",
            "Train Epoch: 3 [39040/60000]\tLoss: 0.208971\n",
            "Train Epoch: 3 [39680/60000]\tLoss: 0.085568\n",
            "Train Epoch: 3 [40320/60000]\tLoss: 0.085321\n",
            "Train Epoch: 3 [40960/60000]\tLoss: 0.096546\n",
            "Train Epoch: 3 [41600/60000]\tLoss: 0.024160\n",
            "Train Epoch: 3 [42240/60000]\tLoss: 0.095012\n",
            "Train Epoch: 3 [42880/60000]\tLoss: 0.242783\n",
            "Train Epoch: 3 [43520/60000]\tLoss: 0.229842\n",
            "Train Epoch: 3 [44160/60000]\tLoss: 0.087878\n",
            "Train Epoch: 3 [44800/60000]\tLoss: 0.107321\n",
            "Train Epoch: 3 [45440/60000]\tLoss: 0.089219\n",
            "Train Epoch: 3 [46080/60000]\tLoss: 0.196763\n",
            "Train Epoch: 3 [46720/60000]\tLoss: 0.211683\n",
            "Train Epoch: 3 [47360/60000]\tLoss: 0.156664\n",
            "Train Epoch: 3 [48000/60000]\tLoss: 0.191094\n",
            "Train Epoch: 3 [48640/60000]\tLoss: 0.374534\n",
            "Train Epoch: 3 [49280/60000]\tLoss: 0.102252\n",
            "Train Epoch: 3 [49920/60000]\tLoss: 0.120135\n",
            "Train Epoch: 3 [50560/60000]\tLoss: 0.071494\n",
            "Train Epoch: 3 [51200/60000]\tLoss: 0.202044\n",
            "Train Epoch: 3 [51840/60000]\tLoss: 0.247330\n",
            "Train Epoch: 3 [52480/60000]\tLoss: 0.410309\n",
            "Train Epoch: 3 [53120/60000]\tLoss: 0.066624\n",
            "Train Epoch: 3 [53760/60000]\tLoss: 0.028278\n",
            "Train Epoch: 3 [54400/60000]\tLoss: 0.273158\n",
            "Train Epoch: 3 [55040/60000]\tLoss: 0.156631\n",
            "Train Epoch: 3 [55680/60000]\tLoss: 0.043233\n",
            "Train Epoch: 3 [56320/60000]\tLoss: 0.143388\n",
            "Train Epoch: 3 [56960/60000]\tLoss: 0.173304\n",
            "Train Epoch: 3 [57600/60000]\tLoss: 0.183180\n",
            "Train Epoch: 3 [58240/60000]\tLoss: 0.125862\n",
            "Train Epoch: 3 [58880/60000]\tLoss: 0.291856\n",
            "Train Epoch: 3 [59520/60000]\tLoss: 0.397845\n",
            "\n",
            "Test set: Avg. loss: 0.0769, Accuracy: 9758/10000 (98%)\n",
            "\n"
          ]
        }
      ],
      "source": [
        "# Get initial performance\n",
        "test()\n",
        "# Train for three epochs\n",
        "n_epochs = 3\n",
        "for epoch in range(1, n_epochs + 1):\n",
        "  train(epoch)\n",
        "  test()"
      ]
    },
    {
      "cell_type": "code",
      "execution_count": 10,
      "metadata": {
        "id": "o7fRUAy9Se1B"
      },
      "outputs": [
        {
          "name": "stderr",
          "output_type": "stream",
          "text": [
            "/tmp/ipykernel_40831/237405460.py:23: UserWarning: Implicit dimension choice for log_softmax has been deprecated. Change the call to include dim=X as an argument.\n",
            "  x = F.log_softmax(x)\n"
          ]
        },
        {
          "data": {
            "image/png": "[encoded data removed]",
            "text/plain": [
              "<Figure size 640x480 with 6 Axes>"
            ]
          },
          "metadata": {},
          "output_type": "display_data"
        }
      ],
      "source": [
        "# Run network on data we got before and show predictions\n",
        "output = model(example_data)\n",
        "\n",
        "fig = plt.figure()\n",
        "for i in range(6):\n",
        "  plt.subplot(2,3,i+1)\n",
        "  plt.tight_layout()\n",
        "  plt.imshow(example_data[i][0], cmap='gray', interpolation='none')\n",
        "  plt.title(\"Prediction: {}\".format(\n",
        "    output.data.max(1, keepdim=True)[1][i].item()))\n",
        "  plt.xticks([])\n",
        "  plt.yticks([])\n",
        "plt.show()"
      ]
    },
    {
      "cell_type": "markdown",
      "metadata": {
        "id": "EabuoMdP32Hd"
      },
      "source": [
        "This is the code that does the adversarial attack. It is adapted from [here](https://pytorch.org/tutorials/beginner/fgsm_tutorial.html).   It is an example of the fast gradient sign method (FGSM), which modifies the data by\n",
        "\n",
        "\n",
        "\n",
        "*   Calculating the derivative $\\partial L/\\partial \\mathbf{x}$ of the loss $L$ with respect to the input data $\\mathbf{x}$.\n",
        "*   Finds the sign of the gradient at each point (making a tensor the same size as $\\mathbf{x}$ with a one where it was positive and minus one where it was negative.  \n",
        "*   Multiplying this vector by $\\epsilon$ and adding it back to the original data\n",
        "\n",
        "\n"
      ]
    },
    {
      "cell_type": "code",
      "execution_count": 11,
      "metadata": {
        "id": "gAX7tnld46q1"
      },
      "outputs": [],
      "source": [
        "# FGSM attack code.\n",
        "def fgsm_attack(x, epsilon, dLdx):\n",
        "    # TODO -- write this function\n",
        "    # Get the sign of the gradient\n",
        "    # Add epsilon times the size of gradient to x\n",
        "    # Replace this line\n",
        "    x_modified = torch.zeros_like(x)\n",
        "\n",
        "    # Return the perturbed image\n",
        "    return x_modified"
      ]
    },
    {
      "cell_type": "code",
      "execution_count": 12,
      "metadata": {
        "id": "AuNTYWboufbm"
      },
      "outputs": [
        {
          "name": "stderr",
          "output_type": "stream",
          "text": [
            "/tmp/ipykernel_40831/237405460.py:23: UserWarning: Implicit dimension choice for log_softmax has been deprecated. Change the call to include dim=X as an argument.\n",
            "  x = F.log_softmax(x)\n"
          ]
        },
        {
          "data": {
            "image/png": "[encoded data removed]",
            "text/plain": [
              "<Figure size 640x480 with 2 Axes>"
            ]
          },
          "metadata": {},
          "output_type": "display_data"
        },
        {
          "data": {
            "image/png": "[encoded data removed]",
            "text/plain": [
              "<Figure size 640x480 with 2 Axes>"
            ]
          },
          "metadata": {},
          "output_type": "display_data"
        },
        {
          "data": {
            "image/png": "[encoded data removed]",
            "text/plain": [
              "<Figure size 640x480 with 2 Axes>"
            ]
          },
          "metadata": {},
          "output_type": "display_data"
        }
      ],
      "source": [
        "no_examples = 3\n",
        "epsilon = 0.5\n",
        "for i in range(no_examples):\n",
        "  # Reset gradients\n",
        "  optimizer.zero_grad()\n",
        "\n",
        "  # Get the i'th data example\n",
        "  x = example_data[i,:,:,:]\n",
        "  # Add an extra dimension back to the beginning\n",
        "  x= x[None, :,:,:]\n",
        "  x.requires_grad = True\n",
        "  # Get the i'th target\n",
        "  y = torch.ones(1, dtype=torch.long) * example_targets[i]\n",
        "\n",
        "  # Run the model\n",
        "  output = model(x)\n",
        "  # Compute the loss\n",
        "  loss = F.nll_loss(output, y)\n",
        "  # Back propagate\n",
        "  loss.backward()\n",
        "\n",
        "  # Collect ``datagrad``\n",
        "  dLdx = x.grad.data\n",
        "\n",
        "  # Call FGSM Attack\n",
        "  x_prime = fgsm_attack(x, epsilon, dLdx)\n",
        "\n",
        "  # Re-classify the perturbed image\n",
        "  output_prime = model(x_prime)\n",
        "\n",
        "  x = x.detach().numpy()\n",
        "  fig = plt.figure()\n",
        "  plt.subplot(1,2,1)\n",
        "  plt.tight_layout()\n",
        "  plt.imshow(x[0][0], cmap='gray', interpolation='none')\n",
        "  plt.title(\"Original Prediction: {}\".format(\n",
        "    output.data.max(1, keepdim=True)[1][0].item()))\n",
        "  plt.xticks([])\n",
        "  plt.yticks([])\n",
        "\n",
        "  plt.subplot(1,2,2)\n",
        "  plt.tight_layout()\n",
        "  plt.imshow(x_prime[0][0].detach().numpy(), cmap='gray', interpolation='none')\n",
        "  plt.title(\"Perturbed Prediction: {}\".format(\n",
        "    output_prime.data.max(1, keepdim=True)[1][0].item()))\n",
        "  plt.xticks([])\n",
        "  plt.yticks([])\n",
        "\n",
        "plt.show()"
      ]
    },
    {
      "cell_type": "markdown",
      "metadata": {
        "id": "vFXWK826HPQ8"
      },
      "source": [
        "Although we have only added a small amount of noise, the model is fooled into thinking that these images come from a different class.\n",
        "\n",
        "TODO -- Modify the attack so that it iteratively perturbs the data. i.e., so we take a small step epsilon, then re-calculate the gradient and take another small step according to the new gradient signs."
      ]
    }
  ],
  "metadata": {
    "colab": {
      "authorship_tag": "ABX9TyP9amtzXsNWqkmiPUQgxzKV",
      "include_colab_link": true,
      "provenance": []
    },
    "kernelspec": {
      "display_name": "Python 3",
      "name": "python3"
    },
    "language_info": {
      "codemirror_mode": {
        "name": "ipython",
        "version": 3
      },
      "file_extension": ".py",
      "mimetype": "text/x-python",
      "name": "python",
      "nbconvert_exporter": "python",
      "pygments_lexer": "ipython3",
      "version": "3.10.12"
    }
  },
  "nbformat": 4,
  "nbformat_minor": 0
}
